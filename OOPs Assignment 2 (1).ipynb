{
 "cells": [
  {
   "cell_type": "markdown",
   "id": "8347f655-b7d8-4254-a722-be7d2a891efd",
   "metadata": {},
   "source": [
    "# Q1. What is Abstraction in OOps? Explain with an example. "
   ]
  },
  {
   "cell_type": "code",
   "execution_count": 1,
   "id": "e8a47727-b410-418a-9602-936a5f0b7487",
   "metadata": {},
   "outputs": [],
   "source": [
    "# Abstraction is a fundamental concept of OOps which focuses on hiding complex implementation details and projection only essential features of an object."
   ]
  },
  {
   "cell_type": "code",
   "execution_count": 4,
   "id": "45ee6893-051d-48de-8bc6-64cddd4a208e",
   "metadata": {},
   "outputs": [
    {
     "name": "stdout",
     "output_type": "stream",
     "text": [
      "Drawing a circle\n",
      "Resizing circle by a factor of 2.0\n",
      "Moving circle to coordinates (100, 200\n",
      "Drawing a rectangle\n",
      "Resizing rectangle by a factor of 2.0\n",
      "Moving rectangle to coordinates (300, 150)\n"
     ]
    }
   ],
   "source": [
    "class Shape:\n",
    "    def draw(self):\n",
    "        pass\n",
    "    def resize(self, factor):\n",
    "        pass\n",
    "    def move(self, x,y):\n",
    "        pass\n",
    "class Circle(Shape):\n",
    "    def draw (self):\n",
    "        print(\"Drawing a circle\")\n",
    "    def resize(self, factor):\n",
    "        print(f\"Resizing circle by a factor of {factor}\")\n",
    "    def move(self, x,y):\n",
    "        print(f\"Moving circle to coordinates ({x}, {y}\")\n",
    "        \n",
    "class Rectangle(Shape):\n",
    "    def draw(self):\n",
    "        print(\"Drawing a rectangle\")\n",
    "    def resize(self, factor):\n",
    "        print(f\"Resizing rectangle by a factor of {factor}\")\n",
    "        \n",
    "    def move(self, x, y):\n",
    "        print (f\"Moving rectangle to coordinates ({x}, {y})\")\n",
    "        \n",
    "circle = Circle()\n",
    "circle.draw()\n",
    "circle.resize(2.0)\n",
    "circle.move(100,200)\n",
    "\n",
    "\n",
    "rectangle = Rectangle()\n",
    "rectangle.draw()\n",
    "rectangle.resize(2.0)\n",
    "rectangle.move(300, 150)"
   ]
  },
  {
   "cell_type": "markdown",
   "id": "8fbf6baf-3715-476e-99b6-e639676f3c09",
   "metadata": {},
   "source": [
    "# Q2. Differentiate between Abstraction and Encapsulation. Explain with an example."
   ]
  },
  {
   "cell_type": "code",
   "execution_count": 5,
   "id": "ffbc21d2-5228-4be4-b7c2-80601c3f3cb0",
   "metadata": {},
   "outputs": [],
   "source": [
    "# Abstraction focuses on hiding the complex implementation details and showing ony essential features whereas Encapsulation is all about bundling the data and the methods that operate on the data"
   ]
  },
  {
   "cell_type": "code",
   "execution_count": 7,
   "id": "d204c0fd-5232-49f4-a9f3-570a4c6a3915",
   "metadata": {},
   "outputs": [
    {
     "name": "stdout",
     "output_type": "stream",
     "text": [
      "Account Number: 123456789\n",
      "Balance: 1300\n"
     ]
    }
   ],
   "source": [
    "class BankAccount :\n",
    "    def __init__(self, account_number, balance):\n",
    "        self.account_number = account_number \n",
    "        self.balance = balance\n",
    "        \n",
    "    def deposit (self, amount):\n",
    "        if amount > 0:\n",
    "            self.balance += amount \n",
    "            \n",
    "    def withdraw (self,amount):\n",
    "        if 0< amount <= self.balance:\n",
    "            self.balance -= amount\n",
    "account = BankAccount(\"123456789\", 1000)\n",
    "account.deposit(500)\n",
    "account.withdraw(200)\n",
    "\n",
    "print(f\"Account Number: {account.account_number}\")\n",
    "print(f\"Balance: {account.balance}\")"
   ]
  },
  {
   "cell_type": "markdown",
   "id": "203585dd-dfd5-4e50-a62e-fe88180974a6",
   "metadata": {},
   "source": [
    "# Q3. What is abc module in python? Why is it used?"
   ]
  },
  {
   "cell_type": "code",
   "execution_count": 8,
   "id": "9e000d25-4c75-4945-95a4-3a64a0067884",
   "metadata": {},
   "outputs": [],
   "source": [
    "# The \"abc\" module in python stands for \"Abstraction Base Classes\". It provides a mechanism for creating abstract classes and defining abstract methods in python."
   ]
  },
  {
   "cell_type": "markdown",
   "id": "e9553986-f6c7-4329-8ccd-f8e3c0bc7433",
   "metadata": {},
   "source": [
    "# Q4. How can we achieve data abstraction?"
   ]
  },
  {
   "cell_type": "code",
   "execution_count": 9,
   "id": "b768ff67-f4bb-4752-8978-aa4a648f311f",
   "metadata": {},
   "outputs": [],
   "source": [
    "# Data abstraction in programming is to expose the essential features of an object while hiding implementation details\n"
   ]
  },
  {
   "cell_type": "markdown",
   "id": "aa94418b-8ede-4f6a-9dc2-52de38cecae5",
   "metadata": {},
   "source": [
    "# Q5. Can we create an instance of an abstract class? Explain your answer."
   ]
  },
  {
   "cell_type": "code",
   "execution_count": 11,
   "id": "758ea002-d02e-44b3-9071-d03d77f09160",
   "metadata": {},
   "outputs": [],
   "source": [
    "#No we cannot create instance for an abstract class.\n",
    "# An abstract class is designed to be a blueprint for other classes to inherit from and it cannot be instantiated on its own."
   ]
  },
  {
   "cell_type": "code",
   "execution_count": null,
   "id": "eaffb865-1ece-41b2-858e-bfd5ea43381f",
   "metadata": {},
   "outputs": [],
   "source": []
  }
 ],
 "metadata": {
  "kernelspec": {
   "display_name": "Python 3 (ipykernel)",
   "language": "python",
   "name": "python3"
  },
  "language_info": {
   "codemirror_mode": {
    "name": "ipython",
    "version": 3
   },
   "file_extension": ".py",
   "mimetype": "text/x-python",
   "name": "python",
   "nbconvert_exporter": "python",
   "pygments_lexer": "ipython3",
   "version": "3.10.8"
  }
 },
 "nbformat": 4,
 "nbformat_minor": 5
}
