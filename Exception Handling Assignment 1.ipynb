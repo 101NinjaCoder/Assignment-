{
 "cells": [
  {
   "cell_type": "markdown",
   "id": "387042a5-1962-430b-bde2-5d2ab159573d",
   "metadata": {},
   "source": [
    "## What is an Exception in python? Write the differnce between Exception and Syntax errors."
   ]
  },
  {
   "cell_type": "code",
   "execution_count": 2,
   "id": "e962dacb-36ea-4110-bc3e-201adfac97fd",
   "metadata": {},
   "outputs": [],
   "source": [
    "# Exception is an event that occurs during the execution of a program that disrupts the normal flow of the program's instructions.\"\"\"\n",
    "# Difference\n",
    "# An exceptin is a runtime error that occurs while a python program is executing. Whereas Syntax error occur during the parsing of python code before the program starts executing.\n",
    "# Exception are not necessarily caused by the violation of Python's syntax rules. Whereas syntax error occur due to violation of Python's syntax rules."
   ]
  },
  {
   "cell_type": "markdown",
   "id": "d141e719-9d03-4c87-949b-36d8f09f4503",
   "metadata": {},
   "source": [
    "## what happens when an exception is not handled? Explain with an example."
   ]
  },
  {
   "cell_type": "code",
   "execution_count": 3,
   "id": "b4da5d10-0cf9-4183-976e-687e8815ac14",
   "metadata": {},
   "outputs": [],
   "source": [
    "# When an exception is not handled in python, it propagates up the call stack looking for an appropriate excpetion handler. And if it can not find the suitable handler than the program terminates and an error message is displayed"
   ]
  },
  {
   "cell_type": "code",
   "execution_count": 6,
   "id": "8cc51f1d-52e2-4777-a1e9-b6aee92eb54c",
   "metadata": {},
   "outputs": [
    {
     "ename": "SyntaxError",
     "evalue": "expected 'except' or 'finally' block (3751733843.py, line 6)",
     "output_type": "error",
     "traceback": [
      "\u001b[0;36m  Cell \u001b[0;32mIn[6], line 6\u001b[0;36m\u001b[0m\n\u001b[0;31m    divide (10,0)\u001b[0m\n\u001b[0m                 ^\u001b[0m\n\u001b[0;31mSyntaxError\u001b[0m\u001b[0;31m:\u001b[0m expected 'except' or 'finally' block\n"
     ]
    }
   ],
   "source": [
    "def divide(x,y):\n",
    "    try: \n",
    "        result = x/y\n",
    "    #except ZeroDivisionError:\n",
    "        print(\"Division by zero is not allowed\")\n",
    "divide (10,0)\n",
    "print(\"This line will never be reached because of the unhandled exception\")"
   ]
  },
  {
   "cell_type": "markdown",
   "id": "a8f1a909-30b5-4fb8-8dbd-02275fa064bb",
   "metadata": {},
   "source": [
    "## Which Python statements are useed to catch and handle expctions? Explain with an example."
   ]
  },
  {
   "cell_type": "code",
   "execution_count": 7,
   "id": "d4808592-ba3d-4690-9383-e7f4c371ca0b",
   "metadata": {},
   "outputs": [],
   "source": [
    "# We can catch and handle exception using \"try\" and \"except\" statements."
   ]
  },
  {
   "cell_type": "code",
   "execution_count": 9,
   "id": "38dd533f-b693-473a-bb1e-50bd8896e874",
   "metadata": {},
   "outputs": [
    {
     "name": "stdout",
     "output_type": "stream",
     "text": [
      "Division by zero is not allowed\n",
      "Result 1 is None due to the exception\n",
      "Result 2: 4.0\n"
     ]
    }
   ],
   "source": [
    "def divide (x,y):\n",
    "    try: \n",
    "        result = x/y \n",
    "    except ZeroDivisionError:\n",
    "        print(\"Division by zero is not allowed\")\n",
    "        result= None\n",
    "    return result\n",
    "result1 = divide (10,0) \n",
    "if result1 is not None:\n",
    "    print(f\"Result 1: {result1}\")\n",
    "else:\n",
    "    print(\"Result 1 is None due to the exception\")\n",
    "    \n",
    "result2 = divide(20,5)\n",
    "if result2 is not None:\n",
    "    print(f\"Result 2: {result2}\")\n",
    "else:\n",
    "    print(\"Result 2 is None due to the exception\")"
   ]
  },
  {
   "cell_type": "markdown",
   "id": "4ef782be-e040-4029-8b29-ab786a11fb9d",
   "metadata": {},
   "source": [
    "## Explain with an example : try and else    finally     raise\n"
   ]
  },
  {
   "cell_type": "code",
   "execution_count": 20,
   "id": "64befd8e-fec1-4283-9f71-7bbbadc7d919",
   "metadata": {},
   "outputs": [
    {
     "name": "stdout",
     "output_type": "stream",
     "text": [
      "Division by zero is not allowed\n",
      "Cleanup: Closing resources\n",
      "Result 1 is None due to the exception\n",
      "Division was successful\n",
      "Cleanup: Closing resources\n",
      "Result 2: 4.0\n",
      "Caught the custom exception : This is a custom exception\n",
      "Cleanup: closing resources\n"
     ]
    }
   ],
   "source": [
    "def divide (x,y):\n",
    "    try:\n",
    "        result = x/y \n",
    "    except ZeroDivisionError:\n",
    "        print(\"Division by zero is not allowed\")\n",
    "        result = None\n",
    "    else:\n",
    "        print(\"Division was successful\")\n",
    "    finally:\n",
    "        print(\"Cleanup: Closing resources\")\n",
    "    return result\n",
    "\n",
    "result1 = divide(10,0)\n",
    "if result1 is not None:\n",
    "    print(f\"Result1 : {result1}\")\n",
    "else:\n",
    "    print(\"Result 1 is None due to the exception\")\n",
    "    \n",
    "result2 = divide (20,5)\n",
    "if result2 is not None:\n",
    "    print(f\"Result 2: {result2}\")\n",
    "else:\n",
    "    print(\"Result 2 is None due to the exception\")\n",
    "\n",
    "def custom_exception_example():\n",
    "    try:\n",
    "        raise ValueError (\"This is a custom exception\")\n",
    "    except ValueError as e:\n",
    "        print(f\"Caught the custom exception : {e}\")\n",
    "    finally:\n",
    "        print(\"Cleanup: closing resources\")\n",
    "    \n",
    "custom_exception_example()\n",
    "    "
   ]
  },
  {
   "cell_type": "markdown",
   "id": "ff328650-7d0f-4755-a45f-a76723bc628d",
   "metadata": {},
   "source": [
    "## What are Custom Exception in Python? Why do we need Custom exception ? Explain with an example."
   ]
  },
  {
   "cell_type": "code",
   "execution_count": 15,
   "id": "e28d8cf7-4e58-44e3-8d1f-6bb049c47c17",
   "metadata": {},
   "outputs": [],
   "source": [
    "# Custom exception are exception that you can create in Python to represent specific error condition or situation in your code. \n",
    "# We need custom exception because:\n",
    "# 1: Clarity and Readability\n",
    "# 2: Encapsulation\n",
    "# 3: Error Categorization\n",
    "# 4: Consistency"
   ]
  },
  {
   "cell_type": "code",
   "execution_count": 21,
   "id": "78972f96-8290-4a9d-bde7-b61a92272988",
   "metadata": {},
   "outputs": [
    {
     "name": "stdout",
     "output_type": "stream",
     "text": [
      "Caught the custom exception : This is a custom exception\n",
      "Cleanup: closing resources\n"
     ]
    }
   ],
   "source": [
    "def custom_exception_example():\n",
    "    try:\n",
    "        raise ValueError (\"This is a custom exception\")\n",
    "    except ValueError as e:\n",
    "        print(f\"Caught the custom exception : {e}\")\n",
    "    finally:\n",
    "        print(\"Cleanup: closing resources\")\n",
    "    \n",
    "custom_exception_example()\n",
    "    "
   ]
  },
  {
   "cell_type": "markdown",
   "id": "dc6ec509-299b-409c-bcf8-7ce7c2d2c8d9",
   "metadata": {},
   "source": [
    "## Create a custom exception Class. Use this class to handle an exception."
   ]
  },
  {
   "cell_type": "code",
   "execution_count": 19,
   "id": "1a1522d2-3db0-4e19-a47a-47474e9c1cc2",
   "metadata": {},
   "outputs": [
    {
     "name": "stdout",
     "output_type": "stream",
     "text": [
      "Custom Exception Caught: value should be non-negative\n"
     ]
    }
   ],
   "source": [
    "class CustomValueError(Exception):\n",
    "    \n",
    "    def __init__ (self, value, message = \"Custom value error occured\"):\n",
    "        self.value = value\n",
    "        self.message = message\n",
    "        super().__init__(self.message)\n",
    "def check_value(x):\n",
    "    if x<0:\n",
    "        raise CustomValueError(x, \"value should be non-negative\")\n",
    "try:\n",
    "    value = -5 \n",
    "    check_value(value)\n",
    "except CustomValueError as e:\n",
    "    print(f\"Custom Exception Caught: {e}\")\n",
    "else: \n",
    "    print(\"No custom exception occurred\")"
   ]
  },
  {
   "cell_type": "code",
   "execution_count": null,
   "id": "f2002e85-22fb-4d3e-b748-081fe252e0f6",
   "metadata": {},
   "outputs": [],
   "source": []
  }
 ],
 "metadata": {
  "kernelspec": {
   "display_name": "Python 3 (ipykernel)",
   "language": "python",
   "name": "python3"
  },
  "language_info": {
   "codemirror_mode": {
    "name": "ipython",
    "version": 3
   },
   "file_extension": ".py",
   "mimetype": "text/x-python",
   "name": "python",
   "nbconvert_exporter": "python",
   "pygments_lexer": "ipython3",
   "version": "3.10.8"
  }
 },
 "nbformat": 4,
 "nbformat_minor": 5
}
