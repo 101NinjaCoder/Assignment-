{
 "cells": [
  {
   "cell_type": "markdown",
   "id": "95c523c7-78a0-493a-a5c8-54ab6c31146d",
   "metadata": {},
   "source": [
    "## Q1. Explain why we have to use the Exception class while creating a Custom Exception."
   ]
  },
  {
   "cell_type": "code",
   "execution_count": 1,
   "id": "388af565-d2dc-4f92-93ab-19028c37353b",
   "metadata": {},
   "outputs": [],
   "source": [
    "# Custom exception are user-defined exception classes that extend or inherit from the built in Exception class in most programming languages.\n",
    "# We use the exception class while creating a custom exception because it provide Consistency, Exception Hierarchy, Information and context and documentation."
   ]
  },
  {
   "cell_type": "markdown",
   "id": "60341267-7ac9-47f8-9ed6-02477c021175",
   "metadata": {},
   "source": [
    "## Q2. Write a python program to print Python Exception Hierarchy."
   ]
  },
  {
   "cell_type": "code",
   "execution_count": 3,
   "id": "7a4ad15e-dfd4-4d4f-af03-e9dc0727b9eb",
   "metadata": {},
   "outputs": [
    {
     "name": "stdout",
     "output_type": "stream",
     "text": [
      "BaseException\n",
      "    object\n"
     ]
    }
   ],
   "source": [
    "def print_exception_hierarchy(exception_class, indent=0):\n",
    "    print(\" \"* indent + exception_class.__name__)\n",
    "    \n",
    "    for base_class in exception_class.__bases__:\n",
    "        print_exception_hierarchy(base_class, indent +4)\n",
    "        \n",
    "print_exception_hierarchy(BaseException)"
   ]
  },
  {
   "cell_type": "markdown",
   "id": "88622636-df62-4922-b44c-2b4c7d831c8f",
   "metadata": {},
   "source": [
    "## Q3. What errors are defined in the ArithmeticError class? Explain any two with an example."
   ]
  },
  {
   "cell_type": "code",
   "execution_count": 4,
   "id": "9ce974c6-3815-4ad3-876d-96bec209f8cb",
   "metadata": {},
   "outputs": [],
   "source": [
    "# The 'ArithmeticError ' class in Python is a base class for exception related to arithmetic operations.\n",
    "# ArithmeticError class are \"ZeroZeroDivisionError\" and \"OverOverflowError\"."
   ]
  },
  {
   "cell_type": "code",
   "execution_count": 6,
   "id": "bed37251-d9e4-471b-b028-3c3d1b4efcec",
   "metadata": {},
   "outputs": [],
   "source": [
    "#1: ZeroDivisionError:\n",
    " #   this exception occure when we attempt to divide the number by zero."
   ]
  },
  {
   "cell_type": "code",
   "execution_count": 7,
   "id": "59927aa3-be9a-4489-94fb-5df793d5e387",
   "metadata": {},
   "outputs": [],
   "source": [
    "#2: OverflowError:\n",
    "# this exception occure when an arithmetic operation exceeds the limits of what can be represented in the available numeric data type."
   ]
  },
  {
   "cell_type": "markdown",
   "id": "a85a52a5-f4c6-4110-aecc-71a4534ec8bb",
   "metadata": {},
   "source": [
    "## Q4. Why LookupError class is used? Explain with an example KeyError and IndexError."
   ]
  },
  {
   "cell_type": "code",
   "execution_count": 8,
   "id": "68af17d1-90c0-4e1d-8ef8-c3de040bebb1",
   "metadata": {},
   "outputs": [],
   "source": [
    "# The 'LookLookupError' class in Python is a base class for exceptions related to lookup operations.Lookup operation means for specific item in a collection or sequence and error can occur when the item being searched for is not found or the index used for lookup is out of bounds."
   ]
  },
  {
   "cell_type": "code",
   "execution_count": 9,
   "id": "a7dd955b-2a30-4184-8446-a78211acc6e7",
   "metadata": {},
   "outputs": [],
   "source": [
    "# KeyError:\n",
    "# Key error is raised when we ty to access a dictionary using a keyt that does not exist in the dictionary."
   ]
  },
  {
   "cell_type": "code",
   "execution_count": 11,
   "id": "81311e6d-4125-4534-b18c-df5b25015f70",
   "metadata": {},
   "outputs": [],
   "source": [
    "# Index Error \n",
    "# index Error is raised when we try to access an element in sequence  using an index that is out of bounds."
   ]
  },
  {
   "cell_type": "markdown",
   "id": "d885af50-ce06-4778-902e-efd74a2ebb64",
   "metadata": {},
   "source": [
    "## Q5. Explain ImportError. What is ModuleNotFoundError?"
   ]
  },
  {
   "cell_type": "code",
   "execution_count": 12,
   "id": "b6e5ea34-ccbb-47bd-b4f1-49b034038c07",
   "metadata": {},
   "outputs": [],
   "source": [
    "# Import Error  is an exception in python that is caused when an import statement fails to import a module or when there is an issue related to module loading."
   ]
  },
  {
   "cell_type": "code",
   "execution_count": 13,
   "id": "1cff621b-ec88-4c04-a962-7a8cc01a77d0",
   "metadata": {},
   "outputs": [],
   "source": [
    "# Module NOt found Error: this error occurs when python cannot locate the module that we are trying to import."
   ]
  },
  {
   "cell_type": "markdown",
   "id": "9cea2ed2-67f2-44c6-8ac3-63d2625fa4d0",
   "metadata": {},
   "source": [
    "## Q6. List down some best practices for exception handling in python."
   ]
  },
  {
   "cell_type": "code",
   "execution_count": 15,
   "id": "a5f1d102-f48a-43be-bd64-39f43da7c1c4",
   "metadata": {},
   "outputs": [],
   "source": [
    "# List of best practices for exception handling in python:\n",
    "# 1: Use specific Exception Types\n",
    "# 2:Use 'finally' for cleanup\n",
    "# 3: Keep try blocks Minimal\n",
    "# 4: Avoid Bare 'except'\n",
    "# 5: Handle Exception Gracefully\n"
   ]
  },
  {
   "cell_type": "code",
   "execution_count": null,
   "id": "d48b97c4-039e-42ea-a870-cd39597f48be",
   "metadata": {},
   "outputs": [],
   "source": []
  }
 ],
 "metadata": {
  "kernelspec": {
   "display_name": "Python 3 (ipykernel)",
   "language": "python",
   "name": "python3"
  },
  "language_info": {
   "codemirror_mode": {
    "name": "ipython",
    "version": 3
   },
   "file_extension": ".py",
   "mimetype": "text/x-python",
   "name": "python",
   "nbconvert_exporter": "python",
   "pygments_lexer": "ipython3",
   "version": "3.10.8"
  }
 },
 "nbformat": 4,
 "nbformat_minor": 5
}
