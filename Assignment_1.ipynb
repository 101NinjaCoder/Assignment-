{
 "cells": [
  {
   "cell_type": "markdown",
   "id": "021b81c6-4a3c-46f9-9927-145ac2dca1e6",
   "metadata": {},
   "source": [
    "# Answer 1"
   ]
  },
  {
   "cell_type": "code",
   "execution_count": 1,
   "id": "047826d7-375c-4e1c-ba0d-f57137de42e9",
   "metadata": {},
   "outputs": [],
   "source": [
    "#String"
   ]
  },
  {
   "cell_type": "code",
   "execution_count": 2,
   "id": "0e2ed69b-a568-48cf-a9ac-a99fc6e8b0e3",
   "metadata": {},
   "outputs": [],
   "source": [
    "a=\"Ajay\""
   ]
  },
  {
   "cell_type": "code",
   "execution_count": 3,
   "id": "db92e7cb-85dc-4ecb-a40f-798582cfa64b",
   "metadata": {},
   "outputs": [
    {
     "data": {
      "text/plain": [
       "str"
      ]
     },
     "execution_count": 3,
     "metadata": {},
     "output_type": "execute_result"
    }
   ],
   "source": [
    "type(a)"
   ]
  },
  {
   "cell_type": "code",
   "execution_count": 4,
   "id": "4b946674-6741-4a76-862b-fb4fd735d68a",
   "metadata": {},
   "outputs": [],
   "source": [
    "#list"
   ]
  },
  {
   "cell_type": "code",
   "execution_count": 7,
   "id": "74e2c389-f517-48c6-ba52-fa600cf99884",
   "metadata": {},
   "outputs": [],
   "source": [
    "b=[10,34,'name','work',34.33]"
   ]
  },
  {
   "cell_type": "code",
   "execution_count": 8,
   "id": "42518060-4164-4b1b-9d1f-9f1b3b6baf11",
   "metadata": {},
   "outputs": [
    {
     "data": {
      "text/plain": [
       "list"
      ]
     },
     "execution_count": 8,
     "metadata": {},
     "output_type": "execute_result"
    }
   ],
   "source": [
    "type(b)"
   ]
  },
  {
   "cell_type": "code",
   "execution_count": 9,
   "id": "f78bf7fa-5555-4043-b338-7f896ac65394",
   "metadata": {},
   "outputs": [],
   "source": [
    "#float"
   ]
  },
  {
   "cell_type": "code",
   "execution_count": 10,
   "id": "55bbaf25-ac4c-4a43-b235-6f7bea94d3b9",
   "metadata": {},
   "outputs": [],
   "source": [
    "c=34.33"
   ]
  },
  {
   "cell_type": "code",
   "execution_count": 11,
   "id": "711874a5-7e38-45fc-99d6-e9b203eff819",
   "metadata": {},
   "outputs": [
    {
     "data": {
      "text/plain": [
       "float"
      ]
     },
     "execution_count": 11,
     "metadata": {},
     "output_type": "execute_result"
    }
   ],
   "source": [
    "type(c)"
   ]
  },
  {
   "cell_type": "code",
   "execution_count": 12,
   "id": "e7028d69-a25e-47a2-8e29-b7e41c4f1c37",
   "metadata": {},
   "outputs": [],
   "source": [
    "#tuple"
   ]
  },
  {
   "cell_type": "code",
   "execution_count": 15,
   "id": "3a8704ff-4d3d-4088-929d-193c4d6eac18",
   "metadata": {},
   "outputs": [],
   "source": [
    "d=(12,33,\"success\",234.22)"
   ]
  },
  {
   "cell_type": "code",
   "execution_count": 16,
   "id": "21889990-b736-4c6d-a23f-8a52aa4ec245",
   "metadata": {},
   "outputs": [
    {
     "data": {
      "text/plain": [
       "tuple"
      ]
     },
     "execution_count": 16,
     "metadata": {},
     "output_type": "execute_result"
    }
   ],
   "source": [
    "type(d)"
   ]
  },
  {
   "cell_type": "markdown",
   "id": "20719dda-ca76-48ad-8a55-d312b62f0a88",
   "metadata": {},
   "source": [
    "# Answer 2"
   ]
  },
  {
   "cell_type": "code",
   "execution_count": 17,
   "id": "ef4727ec-67da-4e21-a08d-4a02e1c8ef81",
   "metadata": {},
   "outputs": [],
   "source": [
    "var1=''"
   ]
  },
  {
   "cell_type": "code",
   "execution_count": 18,
   "id": "7dc5bcf0-8230-4d7f-9685-22f727524eef",
   "metadata": {},
   "outputs": [
    {
     "data": {
      "text/plain": [
       "str"
      ]
     },
     "execution_count": 18,
     "metadata": {},
     "output_type": "execute_result"
    }
   ],
   "source": [
    "type(var1)"
   ]
  },
  {
   "cell_type": "code",
   "execution_count": 19,
   "id": "8c90744a-d89a-4005-924c-4649d6476e19",
   "metadata": {},
   "outputs": [],
   "source": [
    "var2= '[DS, Ml, Python]'"
   ]
  },
  {
   "cell_type": "code",
   "execution_count": 20,
   "id": "5c511f66-bdf8-4d57-bc38-c5cf6c26646e",
   "metadata": {},
   "outputs": [
    {
     "data": {
      "text/plain": [
       "str"
      ]
     },
     "execution_count": 20,
     "metadata": {},
     "output_type": "execute_result"
    }
   ],
   "source": [
    "type(var2)"
   ]
  },
  {
   "cell_type": "code",
   "execution_count": 21,
   "id": "75615ade-2cf7-413b-a9d4-f7569680beef",
   "metadata": {},
   "outputs": [],
   "source": [
    "var3=['DS','ML','Python']"
   ]
  },
  {
   "cell_type": "code",
   "execution_count": 22,
   "id": "813531d9-effa-4dc4-b37f-96f3aae77855",
   "metadata": {},
   "outputs": [
    {
     "data": {
      "text/plain": [
       "list"
      ]
     },
     "execution_count": 22,
     "metadata": {},
     "output_type": "execute_result"
    }
   ],
   "source": [
    "type(var3)"
   ]
  },
  {
   "cell_type": "code",
   "execution_count": 23,
   "id": "f2f6c925-862f-4a62-827d-ddb6676bc1da",
   "metadata": {},
   "outputs": [],
   "source": [
    "var4=1"
   ]
  },
  {
   "cell_type": "code",
   "execution_count": 24,
   "id": "1dcb105f-f091-483c-ae12-58756a5e08f9",
   "metadata": {},
   "outputs": [
    {
     "data": {
      "text/plain": [
       "int"
      ]
     },
     "execution_count": 24,
     "metadata": {},
     "output_type": "execute_result"
    }
   ],
   "source": [
    "type(var4)"
   ]
  },
  {
   "cell_type": "markdown",
   "id": "ef9703ce-5510-4ca4-a57f-59573d8a8891",
   "metadata": {},
   "source": [
    "# Answer 3"
   ]
  },
  {
   "cell_type": "code",
   "execution_count": 35,
   "id": "4917481e-67a7-41e8-9f47-b966e9427961",
   "metadata": {},
   "outputs": [
    {
     "data": {
      "text/plain": [
       "1.5"
      ]
     },
     "execution_count": 35,
     "metadata": {},
     "output_type": "execute_result"
    }
   ],
   "source": [
    "3/2"
   ]
  },
  {
   "cell_type": "code",
   "execution_count": 36,
   "id": "7d0fa2d3-dcb6-4161-bd1b-d28cc2ee7eee",
   "metadata": {},
   "outputs": [],
   "source": [
    "# '/' this is used to divide the numbers"
   ]
  },
  {
   "cell_type": "code",
   "execution_count": 26,
   "id": "869b1fb5-f452-4fe1-8f5c-e358bfca63fa",
   "metadata": {},
   "outputs": [
    {
     "data": {
      "text/plain": [
       "1"
      ]
     },
     "execution_count": 26,
     "metadata": {},
     "output_type": "execute_result"
    }
   ],
   "source": [
    "5%2"
   ]
  },
  {
   "cell_type": "code",
   "execution_count": 27,
   "id": "b5fa0521-7796-4eb4-aaef-4cb9e99073f8",
   "metadata": {},
   "outputs": [],
   "source": [
    "# \"%\" this is used to find the remainder "
   ]
  },
  {
   "cell_type": "code",
   "execution_count": 28,
   "id": "9d473fcb-ecad-4df3-96f6-7efbb8610171",
   "metadata": {},
   "outputs": [
    {
     "data": {
      "text/plain": [
       "3"
      ]
     },
     "execution_count": 28,
     "metadata": {},
     "output_type": "execute_result"
    }
   ],
   "source": [
    "7//2"
   ]
  },
  {
   "cell_type": "code",
   "execution_count": 32,
   "id": "d539319a-4ba6-463e-85f5-930cc0fd89bb",
   "metadata": {},
   "outputs": [],
   "source": [
    "# '//' this is used to find the quotient"
   ]
  },
  {
   "cell_type": "code",
   "execution_count": 33,
   "id": "771f0743-d113-460c-95fd-cc87b5478baa",
   "metadata": {},
   "outputs": [
    {
     "data": {
      "text/plain": [
       "8"
      ]
     },
     "execution_count": 33,
     "metadata": {},
     "output_type": "execute_result"
    }
   ],
   "source": [
    "2**3"
   ]
  },
  {
   "cell_type": "code",
   "execution_count": 34,
   "id": "aab2877b-39ff-4d70-b4cf-664dece92167",
   "metadata": {},
   "outputs": [],
   "source": [
    "# '**' this is used to find the power of something"
   ]
  },
  {
   "cell_type": "markdown",
   "id": "5f119bf0-fdc5-42ae-bc5e-145a41215f0a",
   "metadata": {},
   "source": [
    "# Answer 4"
   ]
  },
  {
   "cell_type": "code",
   "execution_count": 39,
   "id": "3593ea80-50e4-4012-b52b-b54a68d0b95d",
   "metadata": {},
   "outputs": [],
   "source": [
    "l=[12,43,'upload',32,543,66,22,'type', 'data', 'using']"
   ]
  },
  {
   "cell_type": "code",
   "execution_count": 40,
   "id": "e38a3391-0800-45d8-9c77-17f279ef4362",
   "metadata": {},
   "outputs": [
    {
     "data": {
      "text/plain": [
       "10"
      ]
     },
     "execution_count": 40,
     "metadata": {},
     "output_type": "execute_result"
    }
   ],
   "source": [
    "len(l)"
   ]
  },
  {
   "cell_type": "code",
   "execution_count": 44,
   "id": "286d78a9-65aa-4ae1-b40b-3e3f2311b2ee",
   "metadata": {},
   "outputs": [
    {
     "name": "stdout",
     "output_type": "stream",
     "text": [
      "12\n",
      "43\n",
      "upload\n",
      "32\n",
      "543\n",
      "66\n",
      "22\n",
      "type\n",
      "data\n",
      "using\n"
     ]
    }
   ],
   "source": [
    "for i in l:\n",
    "    print(i)"
   ]
  },
  {
   "cell_type": "markdown",
   "id": "7b5d1631-9461-451f-97fc-ce4aa19df027",
   "metadata": {},
   "source": [
    "# Answer 5"
   ]
  },
  {
   "cell_type": "code",
   "execution_count": 1,
   "id": "31669790-29de-4c2b-8379-319dc9c2c13b",
   "metadata": {},
   "outputs": [
    {
     "name": "stdout",
     "output_type": "stream",
     "text": [
      "A is divisible by B 2 times.\n"
     ]
    }
   ],
   "source": [
    "A = 36\n",
    "B = 6\n",
    "count = 0\n",
    "\n",
    "while A % B == 0:\n",
    "    A /= B\n",
    "    count += 1\n",
    "\n",
    "print(f\"A is divisible by B {count} times.\")\n"
   ]
  },
  {
   "cell_type": "code",
   "execution_count": 2,
   "id": "636fa7a9-f4a8-4e58-a951-c2d7135c97a0",
   "metadata": {},
   "outputs": [
    {
     "name": "stdout",
     "output_type": "stream",
     "text": [
      "12 is divisible by 3.\n",
      "7 is not divisible by 3.\n",
      "33 is divisible by 3.\n",
      "18 is divisible by 3.\n",
      "25 is not divisible by 3.\n",
      "9 is divisible by 3.\n",
      "42 is divisible by 3.\n",
      "15 is divisible by 3.\n",
      "5 is not divisible by 3.\n",
      "6 is divisible by 3.\n",
      "21 is divisible by 3.\n",
      "11 is not divisible by 3.\n",
      "27 is divisible by 3.\n",
      "36 is divisible by 3.\n",
      "8 is not divisible by 3.\n",
      "17 is not divisible by 3.\n",
      "30 is divisible by 3.\n",
      "14 is not divisible by 3.\n",
      "22 is not divisible by 3.\n",
      "2 is not divisible by 3.\n",
      "19 is not divisible by 3.\n",
      "10 is not divisible by 3.\n",
      "4 is not divisible by 3.\n",
      "39 is divisible by 3.\n",
      "31 is not divisible by 3.\n"
     ]
    }
   ],
   "source": [
    "numbers = [12, 7, 33, 18, 25, 9, 42, 15, 5, 6, 21, 11, 27, 36, 8, 17, 30, 14, 22, 2, 19, 10, 4, 39, 31]\n",
    "\n",
    "for num in numbers:\n",
    "    if num % 3 == 0:\n",
    "        print(f\"{num} is divisible by 3.\")\n",
    "    else:\n",
    "        print(f\"{num} is not divisible by 3.\")\n"
   ]
  },
  {
   "cell_type": "code",
   "execution_count": 3,
   "id": "8539e98a-13e2-40f6-a78c-13eed2fcb6e0",
   "metadata": {},
   "outputs": [
    {
     "name": "stdout",
     "output_type": "stream",
     "text": [
      "[1, 5, 3]\n"
     ]
    }
   ],
   "source": [
    "my_list = [1, 2, 3]\n",
    "my_list[1] = 5\n",
    "print(my_list)\n"
   ]
  },
  {
   "cell_type": "code",
   "execution_count": null,
   "id": "409b25c3-8741-4457-93df-ef444a3e227f",
   "metadata": {},
   "outputs": [],
   "source": []
  }
 ],
 "metadata": {
  "kernelspec": {
   "display_name": "Python 3 (ipykernel)",
   "language": "python",
   "name": "python3"
  },
  "language_info": {
   "codemirror_mode": {
    "name": "ipython",
    "version": 3
   },
   "file_extension": ".py",
   "mimetype": "text/x-python",
   "name": "python",
   "nbconvert_exporter": "python",
   "pygments_lexer": "ipython3",
   "version": "3.10.8"
  }
 },
 "nbformat": 4,
 "nbformat_minor": 5
}
