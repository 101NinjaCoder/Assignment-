{
 "cells": [
  {
   "cell_type": "markdown",
   "id": "46eebb9d-8c66-4637-963d-26f928ed9371",
   "metadata": {},
   "source": [
    "# Q1, Create a vehicle class with an init method having instance variables as name_of_vehicle, max_speed and average_of_vehicle."
   ]
  },
  {
   "cell_type": "code",
   "execution_count": 4,
   "id": "8db67f4c-de85-4b81-bcbc-eb8899da8a39",
   "metadata": {},
   "outputs": [
    {
     "name": "stdout",
     "output_type": "stream",
     "text": [
      "Name of Vehicle: car\n",
      "Max speed: 200km/h\n",
      "Average speed: 30 km/h\n",
      "Name of vehicle: bike\n",
      "Max speed : 120 km/h\n",
      "Average speed: 40 km/h\n"
     ]
    }
   ],
   "source": [
    "class Vehicle: \n",
    "    def __init__(self, name_of_vehicle, max_speed, average_of_vehicle):\n",
    "        self.name_of_vehicle = name_of_vehicle\n",
    "        self.max_speed = max_speed\n",
    "        self. average_of_vehicle = average_of_vehicle\n",
    "car = Vehicle(\"car\", 200, 30)\n",
    "bike = Vehicle(\"bike\", 120,40)\n",
    "print(f\"Name of Vehicle: {car.name_of_vehicle}\")\n",
    "print(f\"Max speed: {car.max_speed}km/h\")\n",
    "print(f\"Average speed: {car.average_of_vehicle} km/h\")\n",
    "\n",
    "print(f\"Name of vehicle: { bike.name_of_vehicle}\")\n",
    "print(f\"Max speed : {bike.max_speed} km/h\")\n",
    "print(f\"Average speed: {bike.average_of_vehicle} km/h\")"
   ]
  },
  {
   "cell_type": "markdown",
   "id": "f4d71abf-4342-48bf-8dc2-04dca5b8e5c7",
   "metadata": {},
   "source": [
    "# Q2. Create a child class car from the vehicle class created in Que 1, which will inherit the vehicle class.Create a method named seating_capacity which takes capacity as an argument and returns the name of the vehicle and its seating capacity."
   ]
  },
  {
   "cell_type": "code",
   "execution_count": 7,
   "id": "e6d0c05c-d0a1-48fd-a1aa-84a6154774a3",
   "metadata": {},
   "outputs": [
    {
     "name": "stdout",
     "output_type": "stream",
     "text": [
      "carA has a seating capacity of 5 people.\n",
      "carB has a seating capacity of 4 people.\n"
     ]
    }
   ],
   "source": [
    "class Vehicle:\n",
    "     \n",
    "    def __init__(self, name_of_vehicle, max_speed, average_of_vehicle):\n",
    "        self.name_of_vehicle = name_of_vehicle\n",
    "        self.max_speed = max_speed\n",
    "        self. average_of_vehicle = average_of_vehicle\n",
    "class car(Vehicle):\n",
    "    def __init__(self, name_of_vehicle, max_speed, average_of_vehicle):\n",
    "        super().__init__(name_of_vehicle, max_speed, average_of_vehicle)\n",
    "    def seating_capacity(self, capacity):\n",
    "        return f\"{self.name_of_vehicle} has a seating capacity of {capacity} people.\"\n",
    "    \n",
    "car1 = car(\"carA\",200,30)\n",
    "car2 = car(\"carB\",180,25)\n",
    "print(car1.seating_capacity(5))\n",
    "print(car2.seating_capacity(4))"
   ]
  },
  {
   "cell_type": "markdown",
   "id": "c725750d-1aaa-40aa-87af-ee9c47567508",
   "metadata": {},
   "source": [
    "# Q3. What is multiple inheritance? Write a python code to demonstrate multiple inheritance."
   ]
  },
  {
   "cell_type": "code",
   "execution_count": 8,
   "id": "1995cc12-5b39-4d4e-bad0-1a162c5b074f",
   "metadata": {},
   "outputs": [],
   "source": [
    " #Multiple inheritance is a feature of python programming in which classes inherit attributes and method from more than one parent class"
   ]
  },
  {
   "cell_type": "code",
   "execution_count": 13,
   "id": "08cfed90-8ab0-40ae-bce2-7c85c2b4d5f4",
   "metadata": {},
   "outputs": [
    {
     "name": "stdout",
     "output_type": "stream",
     "text": [
      "Sparrow make chirping sound!\n",
      "Sparrow can fly!\n",
      "GoldFish makes bubbling sound!\n",
      "GoldFish can swim!\n"
     ]
    }
   ],
   "source": [
    "class Animal: \n",
    "    def __init__ (self, species):\n",
    "        self.species = species\n",
    "        \n",
    "    def make_sounds(self):\n",
    "        pass\n",
    "class CanFly:\n",
    "    def fly(self):\n",
    "        print(f\"{self.species} can fly!\")\n",
    "class CanSwim:\n",
    "    def swim(self):\n",
    "        print(f\"{self.species} can swim!\")\n",
    "\n",
    "class Bird(Animal, CanFly):\n",
    "    def make_sound(self):\n",
    "        print(f\"{self.species} make chirping sound!\")\n",
    "class Fish(Animal, CanSwim):\n",
    "    def make_sound(self):\n",
    "        print(f\"{self.species} makes bubbling sound!\")\n",
    "        \n",
    "bird_instance= Bird(\"Sparrow\")\n",
    "bird_instance.make_sound()\n",
    "bird_instance.fly()\n",
    "\n",
    "fish_instance = Fish ('GoldFish')\n",
    "fish_instance.make_sound()\n",
    "fish_instance.swim()"
   ]
  },
  {
   "cell_type": "markdown",
   "id": "56c4aaa1-60f7-4d57-a41b-eff9dc26215e",
   "metadata": {},
   "source": [
    "# Q4. What are getter and setter in python? Create a class and create a getter and a setter method in this class."
   ]
  },
  {
   "cell_type": "code",
   "execution_count": 16,
   "id": "ac4038a0-2c35-429e-aa3e-191766da5f8e",
   "metadata": {},
   "outputs": [],
   "source": [
    "#getters and setters are methods that allow us to control the access and modification of instance attributes of a class. \n",
    "#getters to get values \n",
    "# setter is used to set values"
   ]
  },
  {
   "cell_type": "code",
   "execution_count": 15,
   "id": "084343a3-664e-4244-9308-787d45349eb6",
   "metadata": {},
   "outputs": [
    {
     "name": "stdout",
     "output_type": "stream",
     "text": [
      "Alice's age: 30\n",
      "Alice's updated age: 35\n",
      "Age cannot be negative.\n"
     ]
    }
   ],
   "source": [
    "class Person: \n",
    "    def __init__(self, name,age):\n",
    "        self.name = name\n",
    "        self._age = age\n",
    "        \n",
    "    def get_age (self):\n",
    "        return self._age\n",
    "    \n",
    "    \n",
    "    def set_age(self, new_age):\n",
    "        if new_age >= 0:\n",
    "            self._age = new_age\n",
    "        else:\n",
    "            print(\"Age cannot be negative.\")\n",
    "person1 = Person(\"Alice\", 30)\n",
    "print(f\"{person1.name}'s age: {person1.get_age()}\")\n",
    "person1.set_age(35)\n",
    "print(f\"{person1.name}'s updated age: {person1.get_age()}\")\n",
    "person1.set_age(-5)"
   ]
  },
  {
   "cell_type": "markdown",
   "id": "6fde9a6a-672d-4264-a456-7be3d293e32d",
   "metadata": {},
   "source": [
    "# Q5.What is method overriding in python? Write a python code to demonstrate method overriding."
   ]
  },
  {
   "cell_type": "code",
   "execution_count": 17,
   "id": "ffb0dfe4-43b8-4b44-8ac0-339a22764e0d",
   "metadata": {},
   "outputs": [],
   "source": [
    "#Method overriding is a feature in python that allows a subclass to provide a specific implementatio for a method that is already defined in its superclass."
   ]
  },
  {
   "cell_type": "code",
   "execution_count": null,
   "id": "38bc5760-4f6e-409d-9c81-1df839991589",
   "metadata": {},
   "outputs": [],
   "source": [
    "class Animal :\n",
    "    def make_sound(self):\n",
    "        print(\"Generic animal sound\")\n",
    "    \n",
    "    \n",
    "class Dog(Animal):\n",
    "    def make_sound(self):\n",
    "        print(\"Bark\")\n",
    "        \n",
    "animal = Animal()\n",
    "animal.make_sound()"
   ]
  }
 ],
 "metadata": {
  "kernelspec": {
   "display_name": "Python 3 (ipykernel)",
   "language": "python",
   "name": "python3"
  },
  "language_info": {
   "codemirror_mode": {
    "name": "ipython",
    "version": 3
   },
   "file_extension": ".py",
   "mimetype": "text/x-python",
   "name": "python",
   "nbconvert_exporter": "python",
   "pygments_lexer": "ipython3",
   "version": "3.10.8"
  }
 },
 "nbformat": 4,
 "nbformat_minor": 5
}
