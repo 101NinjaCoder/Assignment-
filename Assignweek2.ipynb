{
 "cells": [
  {
   "cell_type": "markdown",
   "id": "9ea99202-9bac-4f1a-a748-28d8d3ffc267",
   "metadata": {},
   "source": [
    "# Q1. Create a python program to sort the given list of tuples based on integer value using a\n",
    "lambda function.\n",
    "[('Sachin Tendulkar', 34357), ('Ricky Ponting', 27483), ('Jack Kallis', 25534), ('Virat Kohli', 24936)]"
   ]
  },
  {
   "cell_type": "code",
   "execution_count": 1,
   "id": "cd2ef92d-b73c-4c87-a0ef-c9f7bd15b2ce",
   "metadata": {},
   "outputs": [
    {
     "name": "stdout",
     "output_type": "stream",
     "text": [
      "[('Virat Kohli', 24936), ('Jack Kallis', 25534), ('Ricky Ponting', 27483), ('Sachin Tendulkar', 34357)]\n"
     ]
    }
   ],
   "source": [
    "data= [('Sachin Tendulkar', 34357), ('Ricky Ponting', 27483), ('Jack Kallis', 25534), ('Virat Kohli', 24936)]\n",
    "sorted_data = sorted(data, key=lambda x: x[1])\n",
    "print(sorted_data)"
   ]
  },
  {
   "cell_type": "markdown",
   "id": "9498ddf4-626f-474d-9683-57b81f66578e",
   "metadata": {},
   "source": [
    "# Q2. Write a Python Program to find the squares of all the numbers in the given list of integers using lambda and map functions.\n",
    "[1, 2, 3, 4, 5, 6, 7, 8, 9, 10]\n"
   ]
  },
  {
   "cell_type": "code",
   "execution_count": 10,
   "id": "e13a3319-2ae1-4b14-9e06-5ffd2f0b1823",
   "metadata": {},
   "outputs": [
    {
     "name": "stdout",
     "output_type": "stream",
     "text": [
      "[1, 4, 9, 16, 25, 36, 49, 64, 81, 100]\n"
     ]
    }
   ],
   "source": [
    "x = [1, 2, 3, 4, 5, 6, 7, 8, 9, 10]\n",
    "y= (lambda x: x**2)\n",
    "z= list(map(y,x))\n",
    "print(z)"
   ]
  },
  {
   "cell_type": "markdown",
   "id": "3930c24a-9cba-409e-8098-1024844efbf8",
   "metadata": {},
   "source": [
    "# Q3. Write a python program to convert the given list of integers into a tuple of strings. Use map andlambda functions Given String: [1, 2, 3, 4, 5, 6, 7, 8, 9, 10] Expected output: ('1', '2', '3', '4', '5', '6', '7', '8', '9', '10')"
   ]
  },
  {
   "cell_type": "code",
   "execution_count": 24,
   "id": "dc91b17a-d5d7-47fa-b740-6aa9c7ecbc5f",
   "metadata": {},
   "outputs": [
    {
     "name": "stdout",
     "output_type": "stream",
     "text": [
      "('1', '2', '3', '4', '5', '6', '7', '8', '9', '10')\n"
     ]
    }
   ],
   "source": [
    "given_list =   [1, 2, 3, 4, 5, 6, 7, 8, 9, 10]\n",
    "y= (lambda num: str(num))\n",
    "z = tuple(map(y, given_list))\n",
    "print (z)"
   ]
  },
  {
   "cell_type": "markdown",
   "id": "9decdda4-e2b1-442e-a2c7-d9f13c79bfb5",
   "metadata": {},
   "source": [
    "# Q4. Write a python program using reduce function to compute the product of a list containing numbers from 1 to 25."
   ]
  },
  {
   "cell_type": "code",
   "execution_count": 31,
   "id": "bca19647-42c2-41ac-b75f-87c9ebb67e46",
   "metadata": {},
   "outputs": [
    {
     "name": "stdout",
     "output_type": "stream",
     "text": [
      "15511210043330985984000000\n"
     ]
    }
   ],
   "source": [
    "from functools import reduce \n",
    "\n",
    "x = list (range(1,26))\n",
    "y = (lambda num: num*(num+1))\n",
    "z= reduce(lambda acc, num: acc*(num) ,x)\n",
    "print(z)"
   ]
  },
  {
   "cell_type": "markdown",
   "id": "9b350ac1-8943-41f3-a966-40742bcec834",
   "metadata": {
    "tags": []
   },
   "source": [
    "# Q5. Write a python program to filter the numbers in a given list that are divisible by 2 and 3 using the filter function.\n",
    "[2, 3, 6, 9, 27, 60, 90, 120, 55, 46]"
   ]
  },
  {
   "cell_type": "code",
   "execution_count": 34,
   "id": "5b825ae3-8391-4f2d-aeea-f5081e733328",
   "metadata": {},
   "outputs": [
    {
     "name": "stdout",
     "output_type": "stream",
     "text": [
      "[6, 60, 90, 120]\n"
     ]
    }
   ],
   "source": [
    "def divisible(num):\n",
    "    if num %2==0 and num%3==0: \n",
    "        return True\n",
    "  \n",
    "    \n",
    "given_list = [2, 3, 6, 9, 27, 60, 90, 120, 55, 46]\n",
    "div= list(filter(divisible,given_list))\n",
    "print(div)\n",
    "    "
   ]
  },
  {
   "cell_type": "markdown",
   "id": "46d5f6a9-7043-4c46-baf0-55a80b903d2d",
   "metadata": {},
   "source": [
    "# Q6. Write a python program to find palindromes in the given list of strings using lambda and filter function.\n",
    "['python', 'php', 'aba', 'radar', 'level']"
   ]
  },
  {
   "cell_type": "code",
   "execution_count": 38,
   "id": "6f2b690c-dedf-45b0-a982-7b47599ad0d1",
   "metadata": {},
   "outputs": [
    {
     "name": "stdout",
     "output_type": "stream",
     "text": [
      "['php', 'aba', 'radar', 'level']\n"
     ]
    }
   ],
   "source": [
    "given_list = [ 'python', 'php', 'aba', 'radar', 'level']\n",
    "palindromes = list(filter(lambda word: word == word[ :: -1] ,given_list))\n",
    "print(palindromes)"
   ]
  },
  {
   "cell_type": "code",
   "execution_count": null,
   "id": "06517e42-c3f4-4acc-8d6d-bcdba2fc1599",
   "metadata": {},
   "outputs": [],
   "source": []
  }
 ],
 "metadata": {
  "kernelspec": {
   "display_name": "Python 3 (ipykernel)",
   "language": "python",
   "name": "python3"
  },
  "language_info": {
   "codemirror_mode": {
    "name": "ipython",
    "version": 3
   },
   "file_extension": ".py",
   "mimetype": "text/x-python",
   "name": "python",
   "nbconvert_exporter": "python",
   "pygments_lexer": "ipython3",
   "version": "3.10.8"
  }
 },
 "nbformat": 4,
 "nbformat_minor": 5
}
