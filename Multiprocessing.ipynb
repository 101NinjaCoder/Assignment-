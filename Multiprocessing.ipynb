{
 "cells": [
  {
   "cell_type": "markdown",
   "id": "a004270f-64f3-43e3-911f-a2f5a0afd476",
   "metadata": {},
   "source": [
    "## Q1. What is multiprocessing in python? Why is it useful?"
   ]
  },
  {
   "cell_type": "code",
   "execution_count": 1,
   "id": "b41a4b77-a461-455e-966e-31a7a6488589",
   "metadata": {},
   "outputs": [],
   "source": [
    "# Multiprocessing in python refers to the concurrent  execution of mutiple processes,each of which has its own Python interpreter and memory space. This method is used to achieve parallelism."
   ]
  },
  {
   "cell_type": "code",
   "execution_count": 2,
   "id": "332fb30b-6f65-4d30-bc0e-fb9cca5fde34",
   "metadata": {},
   "outputs": [],
   "source": [
    "#It is useful because: 1 parallelism 2 isolation 3 Utilizing Multiple CPU cores "
   ]
  },
  {
   "cell_type": "markdown",
   "id": "71b0e64e-239f-4db9-a4f9-5d8e4cf2aab9",
   "metadata": {},
   "source": [
    "## Q2. What are the differences between multiprocessing and multithreading?"
   ]
  },
  {
   "cell_type": "code",
   "execution_count": 3,
   "id": "44092fb7-f2ae-459d-b559-99d411879e5c",
   "metadata": {},
   "outputs": [],
   "source": [
    "# Difference between multiprocesssing and multithreading:\n",
    "# Multiprocesssing:\n",
    "# more complex to set up and debug\n",
    "# incurs higher resource overhead\n",
    "# Less portable across differnt operating systems.\n",
    "# Involve multiple processes.\n",
    "\n",
    "\n",
    "#Multithreading:\n",
    "# Easier to work with and debug\n",
    "# has lower resource overhead\n",
    "# more portable across different platforms\n",
    "# involves multiple threads within a single process."
   ]
  },
  {
   "cell_type": "markdown",
   "id": "ad4fe904-bbd3-494d-a2a9-330dc5055a48",
   "metadata": {},
   "source": [
    "## Q3. Write a python code to create a process using the multiprocessing module."
   ]
  },
  {
   "cell_type": "code",
   "execution_count": 4,
   "id": "87d8a043-a2e2-46fd-ac1c-f50d5c41febb",
   "metadata": {},
   "outputs": [
    {
     "name": "stdout",
     "output_type": "stream",
     "text": [
      "worker process is running\n",
      "Main process continues after the worker process\n"
     ]
    }
   ],
   "source": [
    "import multiprocessing\n",
    "def worker_function():\n",
    "    print(\"worker process is running\")\n",
    "if __name__ == \"__main__\":\n",
    "    \n",
    "    my_process = multiprocessing.Process(target=worker_function)\n",
    "    my_process.start()\n",
    "    my_process.join()\n",
    "    \n",
    "print(\"Main process continues after the worker process\")"
   ]
  },
  {
   "cell_type": "markdown",
   "id": "811644af-8f3c-49ca-aed0-681cea430be5",
   "metadata": {},
   "source": [
    "## Q4. What is a multiprocessing pool in python? Why is it used?"
   ]
  },
  {
   "cell_type": "code",
   "execution_count": 5,
   "id": "376db9a2-9992-408d-9295-1491e7ecd43b",
   "metadata": {},
   "outputs": [],
   "source": [
    "# A Multiprocessing pool in Python, typically referred to as a \"pool\" is a component of the \"multiporcessing\" module that provides a convenient way to parallelize and distribute the execution of a function or task across multiple processes."
   ]
  },
  {
   "cell_type": "code",
   "execution_count": 6,
   "id": "a687219b-327f-4ec6-91d1-112f5d5370f1",
   "metadata": {},
   "outputs": [],
   "source": [
    "# Multiprocessing pools is used because of parallel Processsing , load balancing, simplified code and Imporve Response."
   ]
  },
  {
   "cell_type": "markdown",
   "id": "f13546bb-011a-46d5-a1f5-45b6b80bb0c2",
   "metadata": {},
   "source": [
    "## Q5. How can we create a pool of worker processes in python using the multiprocessing module?"
   ]
  },
  {
   "cell_type": "code",
   "execution_count": 7,
   "id": "d036800a-64fa-48bb-bde7-350cca0878e2",
   "metadata": {},
   "outputs": [],
   "source": [
    "# We can create a pool of worker processes in python by using 'multiporcessing' by using 'Pool'class. The pool class simplifies the  management of worker processes and the distribution of tasks to them."
   ]
  },
  {
   "cell_type": "markdown",
   "id": "bcc7d13d-1b8d-45b5-8756-7eb9e2ee7045",
   "metadata": {},
   "source": [
    "## Q6. Write a python program to create 4 processes, each process should print a different number using the multiprocessing module in python."
   ]
  },
  {
   "cell_type": "code",
   "execution_count": 16,
   "id": "08aa8eb2-c8e6-406b-85a3-3d2dc46904b3",
   "metadata": {},
   "outputs": [
    {
     "name": "stdout",
     "output_type": "stream",
     "text": [
      "Process1: 1\n",
      "Process2: 2\n",
      "Process3: 3\n",
      "Process4: 4\n",
      "All processes have finished.\n"
     ]
    }
   ],
   "source": [
    "import multiprocessing \n",
    "\n",
    "\n",
    "def print_number(number):\n",
    "        print(f\"Process{number}: {number}\")\n",
    "        \n",
    "if __name__ == \"__main__\":\n",
    "    numbers = [1,2,3,4]\n",
    "    processes = []\n",
    "    \n",
    "    for number in numbers:\n",
    "        process = multiprocessing.Process(target=print_number, args=(number,))\n",
    "        processes.append(process)\n",
    "        process.start()\n",
    "        \n",
    "    for process in processes:\n",
    "        process.join()\n",
    "    print(\"All processes have finished.\")"
   ]
  },
  {
   "cell_type": "code",
   "execution_count": null,
   "id": "ebae5ce1-843c-4f29-8fb3-5b6963067f23",
   "metadata": {},
   "outputs": [],
   "source": []
  },
  {
   "cell_type": "code",
   "execution_count": null,
   "id": "a7a553bf-dc32-4bb8-b6a5-b2b5bea139e8",
   "metadata": {},
   "outputs": [],
   "source": []
  }
 ],
 "metadata": {
  "kernelspec": {
   "display_name": "Python 3 (ipykernel)",
   "language": "python",
   "name": "python3"
  },
  "language_info": {
   "codemirror_mode": {
    "name": "ipython",
    "version": 3
   },
   "file_extension": ".py",
   "mimetype": "text/x-python",
   "name": "python",
   "nbconvert_exporter": "python",
   "pygments_lexer": "ipython3",
   "version": "3.10.8"
  }
 },
 "nbformat": 4,
 "nbformat_minor": 5
}
