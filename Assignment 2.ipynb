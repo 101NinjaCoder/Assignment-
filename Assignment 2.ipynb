{
 "cells": [
  {
   "cell_type": "markdown",
   "id": "58c41f88-b3b1-4107-9263-87c8392b7c6c",
   "metadata": {},
   "source": [
    "# Q1. How do you comment code in Python? What are the different types of comments?\n"
   ]
  },
  {
   "cell_type": "code",
   "execution_count": 1,
   "id": "72a5fe35-8a89-4c03-bc77-bd5dfb654f54",
   "metadata": {},
   "outputs": [],
   "source": [
    "# we can comment code in Python by suing '#' ' \"\"\" '.\n"
   ]
  },
  {
   "cell_type": "markdown",
   "id": "e628b979-e89e-4d0c-a856-6bcc0e942f5b",
   "metadata": {},
   "source": [
    "# Q2. What are variables in Python? How do you declare and assign values to variables?"
   ]
  },
  {
   "cell_type": "code",
   "execution_count": 3,
   "id": "745ddc1c-377e-4864-a52d-8120d49cfb37",
   "metadata": {},
   "outputs": [],
   "source": [
    "# Variables are symbols or letters to store values in it. \n",
    "a= 24 \n",
    "#is an example to store value in variable"
   ]
  },
  {
   "cell_type": "markdown",
   "id": "8806cae6-71a5-4f76-bed6-cb8cb0db6ce3",
   "metadata": {},
   "source": [
    "# Q3. How do you convert one data type to another in Python?"
   ]
  },
  {
   "cell_type": "code",
   "execution_count": 4,
   "id": "abef1048-66c4-4ebb-814c-15336c40ad9f",
   "metadata": {},
   "outputs": [],
   "source": [
    "float =2.14\n",
    "integer = int(float)"
   ]
  },
  {
   "cell_type": "code",
   "execution_count": 5,
   "id": "6e3b40f1-a8e2-4f23-9f7a-8ca9bbbc4c05",
   "metadata": {},
   "outputs": [
    {
     "data": {
      "text/plain": [
       "2.14"
      ]
     },
     "execution_count": 5,
     "metadata": {},
     "output_type": "execute_result"
    }
   ],
   "source": [
    "float\n"
   ]
  },
  {
   "cell_type": "code",
   "execution_count": 6,
   "id": "600af61b-6965-49ad-93a3-3cb5a253130e",
   "metadata": {},
   "outputs": [
    {
     "data": {
      "text/plain": [
       "2"
      ]
     },
     "execution_count": 6,
     "metadata": {},
     "output_type": "execute_result"
    }
   ],
   "source": [
    "integer"
   ]
  },
  {
   "cell_type": "markdown",
   "id": "fe635521-4f7f-4620-9ff6-47c5a6ae25bb",
   "metadata": {},
   "source": [
    "# Q4. How do you write and execute a Python script from the command line?"
   ]
  },
  {
   "cell_type": "code",
   "execution_count": null,
   "id": "a022428a-5cf5-44f3-86e9-a8b52ff9e22f",
   "metadata": {},
   "outputs": [],
   "source": []
  },
  {
   "cell_type": "code",
   "execution_count": null,
   "id": "285392ad-a7b8-40b7-a573-34e4592bc68f",
   "metadata": {},
   "outputs": [],
   "source": []
  },
  {
   "cell_type": "markdown",
   "id": "f8eb4b9c-46c1-4dce-8a94-730b8312f5b0",
   "metadata": {},
   "source": [
    "# Q5. Given a list my_list = [1, 2, 3, 4, 5], write the code to slice the list and obtain the sub-list [2, 3]."
   ]
  },
  {
   "cell_type": "code",
   "execution_count": 9,
   "id": "be6bf9b4-fb2c-49f9-a902-79ccc6e79d69",
   "metadata": {},
   "outputs": [
    {
     "name": "stdout",
     "output_type": "stream",
     "text": [
      "[2, 3]\n"
     ]
    }
   ],
   "source": [
    "my_list= [1,2,3,4,5]\n",
    "sub_list= my_list[1:3]\n",
    "print(sub_list)"
   ]
  },
  {
   "cell_type": "markdown",
   "id": "7121a87a-6613-4043-9509-511a3a11b7b8",
   "metadata": {},
   "source": [
    "# Q6. What is a complex number in mathematics, and how is it represented in Python?"
   ]
  },
  {
   "cell_type": "code",
   "execution_count": 10,
   "id": "592bff67-d2bb-40d9-8094-033f38c774df",
   "metadata": {},
   "outputs": [],
   "source": [
    "# complex number is a number that contains both imaginary and real number.\n",
    "# in python it is represented as\n",
    "a= 5+3j"
   ]
  },
  {
   "cell_type": "code",
   "execution_count": 11,
   "id": "19a4919a-3848-41bf-a2cd-ef97b530820a",
   "metadata": {},
   "outputs": [
    {
     "data": {
      "text/plain": [
       "complex"
      ]
     },
     "execution_count": 11,
     "metadata": {},
     "output_type": "execute_result"
    }
   ],
   "source": [
    "type(a)"
   ]
  },
  {
   "cell_type": "markdown",
   "id": "2baae750-6109-4d95-a204-cc84936c31bf",
   "metadata": {},
   "source": [
    "# Q7. What is the correct way to declare a variable named age and assign the value 25 to it?"
   ]
  },
  {
   "cell_type": "code",
   "execution_count": 13,
   "id": "7711e871-5b3b-4411-aaaf-25e43d6d28c8",
   "metadata": {},
   "outputs": [],
   "source": [
    "age=25"
   ]
  },
  {
   "cell_type": "markdown",
   "id": "0b5f5bf3-4ad6-402e-b436-0b41c1f6e324",
   "metadata": {},
   "source": [
    "# Q8. Declare a variable named price and assign the value 9.99 to it. What data type does this variable\n",
    "  # belong to?"
   ]
  },
  {
   "cell_type": "code",
   "execution_count": 14,
   "id": "92e9c46d-fe62-48c7-b539-f0278035a886",
   "metadata": {},
   "outputs": [
    {
     "data": {
      "text/plain": [
       "float"
      ]
     },
     "execution_count": 14,
     "metadata": {},
     "output_type": "execute_result"
    }
   ],
   "source": [
    "price=9.99 \n",
    "type(price)"
   ]
  },
  {
   "cell_type": "markdown",
   "id": "c5c2f72b-e201-49dd-865e-dd93be35723e",
   "metadata": {},
   "source": [
    "# Q9. Create a variable named name and assign your full name to it as a string. How would you print the\n",
    "# value of this variable?"
   ]
  },
  {
   "cell_type": "code",
   "execution_count": 16,
   "id": "d8a77718-9943-4c93-8136-042465e0919a",
   "metadata": {},
   "outputs": [
    {
     "data": {
      "text/plain": [
       "str"
      ]
     },
     "execution_count": 16,
     "metadata": {},
     "output_type": "execute_result"
    }
   ],
   "source": [
    "Name= \"Ajay SIngh Adhikari\"\n",
    "type(Name)"
   ]
  },
  {
   "cell_type": "markdown",
   "id": "870c9d07-d69d-466c-adc4-fcaaaf17e66e",
   "metadata": {},
   "source": [
    "# Q10. Given the string \"Hello, World!\", extract the substring \"World\"."
   ]
  },
  {
   "cell_type": "code",
   "execution_count": 20,
   "id": "badcde7d-2f6c-4935-9941-112ab28a6d9e",
   "metadata": {},
   "outputs": [],
   "source": [
    "a= \" Hello, World!\"\n",
    "b= a[8:13]"
   ]
  },
  {
   "cell_type": "code",
   "execution_count": 21,
   "id": "24108557-9e6c-4e9c-9d7f-72984322c0c4",
   "metadata": {},
   "outputs": [
    {
     "data": {
      "text/plain": [
       "'World'"
      ]
     },
     "execution_count": 21,
     "metadata": {},
     "output_type": "execute_result"
    }
   ],
   "source": [
    "b\n"
   ]
  },
  {
   "cell_type": "markdown",
   "id": "78b50ff1-632e-4dc9-9856-9d84a55fa4e1",
   "metadata": {},
   "source": [
    "# Q11. Create a variable named \"is_student\" and assign it a boolean value indicating whether you are  currently a student or not.\n"
   ]
  },
  {
   "cell_type": "code",
   "execution_count": 22,
   "id": "d313428e-6a15-4667-8087-91bc6598e860",
   "metadata": {},
   "outputs": [],
   "source": [
    "is_student = True"
   ]
  },
  {
   "cell_type": "code",
   "execution_count": 23,
   "id": "8098e25f-39bb-46f3-a331-23ad41256353",
   "metadata": {},
   "outputs": [
    {
     "data": {
      "text/plain": [
       "bool"
      ]
     },
     "execution_count": 23,
     "metadata": {},
     "output_type": "execute_result"
    }
   ],
   "source": [
    "type(is_student)"
   ]
  },
  {
   "cell_type": "code",
   "execution_count": null,
   "id": "48dc616d-eab1-40e6-8770-1e36726caafa",
   "metadata": {},
   "outputs": [],
   "source": []
  }
 ],
 "metadata": {
  "kernelspec": {
   "display_name": "Python 3 (ipykernel)",
   "language": "python",
   "name": "python3"
  },
  "language_info": {
   "codemirror_mode": {
    "name": "ipython",
    "version": 3
   },
   "file_extension": ".py",
   "mimetype": "text/x-python",
   "name": "python",
   "nbconvert_exporter": "python",
   "pygments_lexer": "ipython3",
   "version": "3.10.8"
  }
 },
 "nbformat": 4,
 "nbformat_minor": 5
}
