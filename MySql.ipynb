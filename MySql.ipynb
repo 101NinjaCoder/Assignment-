{
 "cells": [
  {
   "cell_type": "markdown",
   "id": "e309ced4-c2d9-421c-ae20-fabfe732672b",
   "metadata": {},
   "source": [
    "## Q1. What is a database? Differentiate between SQL and NoSQL databases."
   ]
  },
  {
   "cell_type": "code",
   "execution_count": 1,
   "id": "de19b300-8832-43e9-804f-62efd8720d0b",
   "metadata": {},
   "outputs": [],
   "source": [
    "# A database is a structured collection of data that is organized and stored in a way that allows for efficient retrieval, management, and manipulation of information. "
   ]
  },
  {
   "cell_type": "code",
   "execution_count": 2,
   "id": "be423000-8cf3-47b0-bfb3-9e0f9adf4d24",
   "metadata": {},
   "outputs": [],
   "source": [
    "#Differentiation between SQL and NoSQL database: \n",
    "#SQL databases are based on a relational data model. They use table to store data, and data in these tables is organized into rows and columns.\n",
    "#NoSQL databases encompass various data models, including documents orientd, key-value, column-family and graph databases."
   ]
  },
  {
   "cell_type": "markdown",
   "id": "80bbd6a5-7c10-40ce-ba5a-4b15d7a33fb4",
   "metadata": {},
   "source": [
    "##  Q2. What is DDL? Explain why CREATE, DROP, ALTER, and TRUNCATE are used with an example."
   ]
  },
  {
   "cell_type": "code",
   "execution_count": 1,
   "id": "54f05e60-e627-46ea-96ee-5188c0b89886",
   "metadata": {},
   "outputs": [],
   "source": [
    "# DDL stand for Data Definiton language and it is a subset of SQL used for defining and managing the structure of a database."
   ]
  },
  {
   "cell_type": "code",
   "execution_count": 2,
   "id": "90750ed7-71b6-4c72-9ddb-4c74c86f569f",
   "metadata": {},
   "outputs": [],
   "source": [
    "# CREATE statement is used to create new database objects, such as table indexes and views."
   ]
  },
  {
   "cell_type": "code",
   "execution_count": 3,
   "id": "c5904f95-1715-4a49-986f-18e6db4deed6",
   "metadata": {},
   "outputs": [],
   "source": [
    "#Drop: It is used to delete existing database objects like table indexes or views."
   ]
  },
  {
   "cell_type": "code",
   "execution_count": 4,
   "id": "de14dbac-2411-4b75-aa4f-97949727e4f1",
   "metadata": {},
   "outputs": [],
   "source": [
    "#ALTER: This statement is used to modify the structure of an existing databse object sucha s adding ,modifying or deleting column from the table."
   ]
  },
  {
   "cell_type": "code",
   "execution_count": 5,
   "id": "bbd99850-3e7b-45f3-86a0-e8e245b5666c",
   "metadata": {},
   "outputs": [],
   "source": [
    "#TRUNCATE: This statement is sued to quickly delete all the data from the table, but it retains the table structure."
   ]
  },
  {
   "cell_type": "markdown",
   "id": "27d8dc06-f8f7-4e9b-970d-18d3652385a6",
   "metadata": {},
   "source": [
    "## Q3. What is DML? Explain INSERT, UPDATE, and DELETE with an example."
   ]
  },
  {
   "cell_type": "code",
   "execution_count": 6,
   "id": "a5d0904e-a0e8-4862-ac24-cdffe75857fe",
   "metadata": {},
   "outputs": [],
   "source": [
    "# DML stands for Data Manipulation Language, which is also a subset of SQL that is used for manipulation and interacting with data stored in the database."
   ]
  },
  {
   "cell_type": "code",
   "execution_count": 7,
   "id": "53e76917-6e88-4dca-bccd-3cc2e8d599fb",
   "metadata": {},
   "outputs": [],
   "source": [
    "#INSERT: The INSERT statement is used to add new records into a database table."
   ]
  },
  {
   "cell_type": "code",
   "execution_count": 8,
   "id": "094b8ef3-7b8e-450a-851e-f2462e673448",
   "metadata": {},
   "outputs": [],
   "source": [
    "#UPDATE: this statement is used to edit or modify existing records."
   ]
  },
  {
   "cell_type": "code",
   "execution_count": 9,
   "id": "2991fb1f-899e-43e4-9fbd-602e57c26f51",
   "metadata": {},
   "outputs": [],
   "source": [
    "#DELETE: THis command or statement is used to remove specific records from a database table."
   ]
  },
  {
   "cell_type": "markdown",
   "id": "44b844b4-ad8d-430d-a018-a1680ecf3ff5",
   "metadata": {},
   "source": [
    "## Q4. What is DQL? Explain SELECT with an example."
   ]
  },
  {
   "cell_type": "code",
   "execution_count": 10,
   "id": "b176c881-64b7-4be1-8d86-0d6735f3f028",
   "metadata": {},
   "outputs": [],
   "source": [
    "# DQL stand for Data Query Language, and it is a subset of SQL that is used for retrieving and querying data from a database."
   ]
  },
  {
   "cell_type": "code",
   "execution_count": 12,
   "id": "518d0ca5-49a2-4300-9da4-12af92339aaf",
   "metadata": {},
   "outputs": [
    {
     "ename": "SyntaxError",
     "evalue": "invalid syntax (1855207814.py, line 4)",
     "output_type": "error",
     "traceback": [
      "\u001b[0;36m  Cell \u001b[0;32mIn[12], line 4\u001b[0;36m\u001b[0m\n\u001b[0;31m    SELECT FirstName, LastName, Salary\u001b[0m\n\u001b[0m           ^\u001b[0m\n\u001b[0;31mSyntaxError\u001b[0m\u001b[0;31m:\u001b[0m invalid syntax\n"
     ]
    }
   ],
   "source": [
    "# SELECT: This statement is used to retrieve data from one or more table in a database.\n",
    "\n",
    "# to retrieve list of employee names and salaries form Employees table:\n",
    "SELECT FirstName, LastName, Salary\n",
    "FROM Employees:"
   ]
  },
  {
   "cell_type": "markdown",
   "id": "a37c2080-b306-49bd-87f0-76c8aed444ea",
   "metadata": {},
   "source": [
    "## Q5. Explain Primary Key and Foreign Key."
   ]
  },
  {
   "cell_type": "code",
   "execution_count": 13,
   "id": "83055cec-675d-4fef-bf5d-4c759f6bf722",
   "metadata": {},
   "outputs": [],
   "source": [
    "# Primary Key: A Primary Key is a database constraint that ensures the uniqueness and intergrity of rows in a database table."
   ]
  },
  {
   "cell_type": "code",
   "execution_count": 14,
   "id": "ae7f7453-658d-4ebb-9425-def7e4bff3fd",
   "metadata": {},
   "outputs": [],
   "source": [
    "#Foreign Key: Foreign Key is a database constraint used to establish a link or relationship between two table in a relational database. It is a column or as set of columns in oe table that refers to the primary key of another table."
   ]
  },
  {
   "cell_type": "markdown",
   "id": "9800b225-0060-46dc-b20e-61e064e88767",
   "metadata": {},
   "source": [
    "## Q6. Write a python code to connect MySQL to python. Explain the cursor() and execute() method."
   ]
  },
  {
   "cell_type": "code",
   "execution_count": 15,
   "id": "f5b044d7-a7c1-4129-8fdc-7819242cf02c",
   "metadata": {},
   "outputs": [
    {
     "name": "stdout",
     "output_type": "stream",
     "text": [
      "Collecting mysql-connector-python\n",
      "  Downloading mysql_connector_python-8.1.0-cp310-cp310-manylinux_2_17_x86_64.whl (27.5 MB)\n",
      "\u001b[2K     \u001b[90m━━━━━━━━━━━━━━━━━━━━━━━━━━━━━━━━━━━━━━━━\u001b[0m \u001b[32m27.5/27.5 MB\u001b[0m \u001b[31m48.1 MB/s\u001b[0m eta \u001b[36m0:00:00\u001b[0m00:01\u001b[0m00:01\u001b[0m\n",
      "\u001b[?25hRequirement already satisfied: protobuf<=4.21.12,>=4.21.1 in /opt/conda/lib/python3.10/site-packages (from mysql-connector-python) (4.21.11)\n",
      "Installing collected packages: mysql-connector-python\n",
      "Successfully installed mysql-connector-python-8.1.0\n",
      "Note: you may need to restart the kernel to use updated packages.\n"
     ]
    }
   ],
   "source": [
    "pip install mysql-connector-python"
   ]
  },
  {
   "cell_type": "code",
   "execution_count": 18,
   "id": "b3a44513-d976-42dd-b641-4ac167b292e9",
   "metadata": {},
   "outputs": [
    {
     "ename": "SyntaxError",
     "evalue": "incomplete input (1330305683.py, line 8)",
     "output_type": "error",
     "traceback": [
      "\u001b[0;36m  Cell \u001b[0;32mIn[18], line 8\u001b[0;36m\u001b[0m\n\u001b[0;31m    \u001b[0m\n\u001b[0m    ^\u001b[0m\n\u001b[0;31mSyntaxError\u001b[0m\u001b[0;31m:\u001b[0m incomplete input\n"
     ]
    }
   ],
   "source": [
    "import mysql.connector\n",
    "\n",
    "db_config = { \n",
    "    \"host\": \"localhost\",\n",
    "    \"user\":\"your_username\",\n",
    "    \"password\": \"your_password\",\n",
    "    \"database\": \"your_database\"\n",
    "}\n",
    "\n",
    "try:\n",
    "    connection = mysql.connector.connect(**db_config)\n",
    "    print(\"Connected to MySQL\")\n",
    "except mysql.connector.Error as err:\n",
    "    print(f\"Error:{err}\")\n",
    "    \n",
    "cursor = connection.cursor()\n",
    "create_table_query =\"\"\"\n",
    "CREATE TABLE IF NOT EXISTS students(\n",
    "    student_id INT AUTO_INCREMENT PRIMARY KEY,\n",
    "    first_name VARCHAR(50),\n",
    "    last_name VARCHAR(50)\n",
    ")\n",
    "\"\"\"\n",
    "    "
   ]
  },
  {
   "cell_type": "code",
   "execution_count": null,
   "id": "620710ee-61ee-458a-979b-6439e46cf5b2",
   "metadata": {},
   "outputs": [],
   "source": []
  },
  {
   "cell_type": "markdown",
   "id": "b967dacb-89f8-4b44-9821-24b4c7e4dc38",
   "metadata": {},
   "source": [
    "## Q7. Give the order of execution of SQL clauses in an SQL query."
   ]
  },
  {
   "cell_type": "code",
   "execution_count": null,
   "id": "719e3e4b-398f-4701-bc69-d311862e3b6a",
   "metadata": {},
   "outputs": [],
   "source": [
    "# The order of execution of SQL clauses in an SQL query:\n",
    "# 1 SELECT\n",
    "# 2 FROM\n",
    "# 3 WHERE\n",
    "# 4 GROUP BY\n",
    "#5 HAVING\n",
    "# 6 ORDER BY\n"
   ]
  }
 ],
 "metadata": {
  "kernelspec": {
   "display_name": "Python 3 (ipykernel)",
   "language": "python",
   "name": "python3"
  },
  "language_info": {
   "codemirror_mode": {
    "name": "ipython",
    "version": 3
   },
   "file_extension": ".py",
   "mimetype": "text/x-python",
   "name": "python",
   "nbconvert_exporter": "python",
   "pygments_lexer": "ipython3",
   "version": "3.10.8"
  }
 },
 "nbformat": 4,
 "nbformat_minor": 5
}
