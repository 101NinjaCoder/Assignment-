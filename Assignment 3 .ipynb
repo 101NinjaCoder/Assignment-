{
 "cells": [
  {
   "cell_type": "markdown",
   "id": "73fa0ef9-0c08-4610-864f-6edf09bbd1ed",
   "metadata": {},
   "source": [
    "# Q1. Which keyword is used to create a function? Create a function to return a list of odd numbers in the range of 1 to 25."
   ]
  },
  {
   "cell_type": "code",
   "execution_count": 9,
   "id": "156dd514-9d4d-4857-ba44-b4ddbb4e92fd",
   "metadata": {},
   "outputs": [],
   "source": [
    "def get_odd_numbers():\n",
    "    odd_numbers = [num for num in range (1,26) if num%2!=0]\n",
    "    return odd_numbers"
   ]
  },
  {
   "cell_type": "code",
   "execution_count": 10,
   "id": "bc60f11d-e9c0-4c13-9aa5-f430ff83caab",
   "metadata": {},
   "outputs": [
    {
     "name": "stdout",
     "output_type": "stream",
     "text": [
      "[1, 3, 5, 7, 9, 11, 13, 15, 17, 19, 21, 23, 25]\n"
     ]
    }
   ],
   "source": [
    "result= get_odd_numbers()\n",
    "print(result)"
   ]
  },
  {
   "cell_type": "markdown",
   "id": "61233806-7976-4df6-bcf1-9c1c9a906c66",
   "metadata": {},
   "source": [
    "# Q2. Why *args and **kwargs is used in some functions? Create a function each for *args and **kwargs to demonstrate their use."
   ]
  },
  {
   "cell_type": "code",
   "execution_count": 11,
   "id": "979ea991-939d-4562-90df-6f21dce56321",
   "metadata": {},
   "outputs": [],
   "source": [
    "#*args and **kwargs are special syntax used in function definitions to allow a function to accept a variable number of arguments."
   ]
  },
  {
   "cell_type": "code",
   "execution_count": 14,
   "id": "f8e49ff2-e042-4a6e-b5b4-0482718d232a",
   "metadata": {},
   "outputs": [
    {
     "name": "stdout",
     "output_type": "stream",
     "text": [
      "hello World!\n"
     ]
    }
   ],
   "source": [
    "def concatenate_strings(*args):\n",
    "    result = \"\"\n",
    "    for string in args: \n",
    "        result += string \n",
    "    return result \n",
    "print(concatenate_strings(\"hello\",\" \",\"World\", \"!\"))"
   ]
  },
  {
   "cell_type": "code",
   "execution_count": 15,
   "id": "d790abcc-7f09-4ca0-85ef-5d7a7cfe0e71",
   "metadata": {},
   "outputs": [
    {
     "name": "stdout",
     "output_type": "stream",
     "text": [
      "name: John\n",
      "age: 30\n",
      "city: New York\n"
     ]
    }
   ],
   "source": [
    "def print_kwargs(**kwargs):\n",
    "    for key, value in kwargs.items():\n",
    "        print(f\"{key}: {value}\")\n",
    "        \n",
    "print_kwargs(name= \"John\", age= 30, city = \"New York\")        "
   ]
  },
  {
   "cell_type": "markdown",
   "id": "d57722d8-ea9f-4ab9-925b-f9512c0c5cf0",
   "metadata": {},
   "source": [
    "# Q3. What is an iterator in python? Name the method used to initialise the iterator object and the method used for iteration. Use these methods to print the first five elements of the given list [2, 4, 6, 8, 10, 12, 14,16, 18, 20]."
   ]
  },
  {
   "cell_type": "code",
   "execution_count": 16,
   "id": "92aeecae-4de7-4497-9015-b711169102c3",
   "metadata": {},
   "outputs": [],
   "source": [
    "#an iterator is an object that implements two methods: __iter__() and __next__()"
   ]
  },
  {
   "cell_type": "code",
   "execution_count": 20,
   "id": "ec28960f-f9c9-4bac-ab36-e2fec8847851",
   "metadata": {},
   "outputs": [
    {
     "name": "stdout",
     "output_type": "stream",
     "text": [
      "2\n",
      "4\n",
      "6\n",
      "8\n",
      "10\n"
     ]
    }
   ],
   "source": [
    "my_list = [ 2,4,6,8,10,12,14,16,18,20]\n",
    "my_iterator = iter(my_list)\n",
    "\n",
    "for _ in range(5):\n",
    "    element= next(my_iterator)\n",
    "    print(element)"
   ]
  },
  {
   "cell_type": "markdown",
   "id": "0d810115-2c5e-46e1-a778-e5bcdace0e0f",
   "metadata": {},
   "source": [
    "# Q4. What is a generator function in python? Why yield keyword is used? Give an example of a generator function."
   ]
  },
  {
   "cell_type": "code",
   "execution_count": 21,
   "id": "4ad1f8d9-1195-4e4e-ab75-88b11b8efe9b",
   "metadata": {},
   "outputs": [],
   "source": [
    "#a generator function is a special type of function that returns an iterator, but unlike regular functions, it uses the yield keyword instead of return"
   ]
  },
  {
   "cell_type": "code",
   "execution_count": 28,
   "id": "1679edd9-3da7-4f8f-befb-ed61f7db9091",
   "metadata": {},
   "outputs": [
    {
     "name": "stdout",
     "output_type": "stream",
     "text": [
      "0\n",
      "2\n",
      "4\n",
      "6\n",
      "8\n"
     ]
    }
   ],
   "source": [
    "def even_num_generator(limit):\n",
    "    current =0 \n",
    "    while current <= limit:\n",
    "        yield current \n",
    "        current += 2\n",
    "        \n",
    "even_gen= even_num_generator(10)\n",
    "for _ in range(5):\n",
    "    print(next(even_gen))"
   ]
  },
  {
   "cell_type": "markdown",
   "id": "77a4b926-fba6-4829-a4bf-4d3d29c74d2d",
   "metadata": {},
   "source": [
    "# Q5. Create a generator function for prime numbers less than 1000. Use the next() method to print the first 20 prime numbers."
   ]
  },
  {
   "cell_type": "code",
   "execution_count": 37,
   "id": "047d96cc-2e9e-4837-8d5a-dfed2913deaa",
   "metadata": {},
   "outputs": [
    {
     "name": "stdout",
     "output_type": "stream",
     "text": [
      "2\n",
      "3\n",
      "5\n",
      "7\n",
      "11\n",
      "13\n",
      "17\n",
      "19\n",
      "23\n",
      "29\n",
      "31\n",
      "37\n",
      "41\n",
      "43\n",
      "47\n",
      "53\n",
      "59\n",
      "61\n",
      "67\n",
      "71\n"
     ]
    }
   ],
   "source": [
    "def is_prime(number):\n",
    "    if number < 2:\n",
    "        return False\n",
    "    for i in range(2, int(number**0.5) + 1):\n",
    "        if number % i == 0:\n",
    "            return False\n",
    "    return True\n",
    "\n",
    "def prime_generator():\n",
    "    number = 2\n",
    "    while number < 1000:\n",
    "        if is_prime(number):\n",
    "            yield number\n",
    "        number += 1\n",
    "prime_gen = prime_generator()\n",
    "\n",
    "\n",
    "for _ in range(20):\n",
    "    print(next(prime_gen))\n"
   ]
  },
  {
   "cell_type": "markdown",
   "id": "2486ae58-73fb-47bd-a04e-ed2359a9dfb4",
   "metadata": {},
   "source": [
    "# Q6. Write a python program to print the first 10 Fibonacci numbers using a while loop."
   ]
  },
  {
   "cell_type": "code",
   "execution_count": 38,
   "id": "e609d049-8849-44e2-90dd-2b1eacfff819",
   "metadata": {},
   "outputs": [
    {
     "name": "stdout",
     "output_type": "stream",
     "text": [
      "[0, 1, 1, 2, 3, 5, 8, 13, 21, 34]\n"
     ]
    }
   ],
   "source": [
    "def fibonacci_numbers(count):\n",
    "    fib_list= [0,1]\n",
    "    \n",
    "    while len(fib_list) <count:\n",
    "        next_fib = fib_list[-1] + fib_list[-2]\n",
    "        fib_list.append(next_fib)\n",
    "        \n",
    "    return fib_list\n",
    "first_10_fibonacci = fibonacci_numbers(10)\n",
    "print(first_10_fibonacci)"
   ]
  },
  {
   "cell_type": "markdown",
   "id": "77ab1c87-e28c-4d4e-91a5-c3fb4f6e969e",
   "metadata": {},
   "source": [
    "# Q7. Write a List Comprehension to iterate through the given string: ‘pwskills’.Expected output: ['p', 'w', 's', 'k', 'i', 'l', 'l', 's']"
   ]
  },
  {
   "cell_type": "code",
   "execution_count": 39,
   "id": "6a9d566f-f7c1-4140-a32f-9d77a632be8c",
   "metadata": {},
   "outputs": [
    {
     "name": "stdout",
     "output_type": "stream",
     "text": [
      "['p', 'w', 's', 'k', 'i', 'l', 'l', 's']\n"
     ]
    }
   ],
   "source": [
    "input_string = \"pwskills\"\n",
    "output_list= [ char for char in input_string if char in \"pwskills\"]\n",
    "print(output_list)"
   ]
  },
  {
   "cell_type": "markdown",
   "id": "754b3672-17f0-4423-ac8f-41488f4070c7",
   "metadata": {},
   "source": [
    "# Q8. Write a python program to check whether a given number is Palindrome or not using a while loop."
   ]
  },
  {
   "cell_type": "code",
   "execution_count": 41,
   "id": "9327bad8-9d3a-4b39-a1b9-9c0d20804776",
   "metadata": {},
   "outputs": [
    {
     "name": "stdin",
     "output_type": "stream",
     "text": [
      "Enter a number:  544\n"
     ]
    },
    {
     "name": "stdout",
     "output_type": "stream",
     "text": [
      "544 is not a palindrome.\n"
     ]
    }
   ],
   "source": [
    "def is_palindrome(number):\n",
    "    original_number = number \n",
    "    reverse_number = 0 \n",
    "    while number>0:\n",
    "        digit = number % 10 \n",
    "        reverse_number = reverse_number *10 + digit \n",
    "        number = number //10\n",
    "        \n",
    "    return original_number == reverse_number\n",
    "num = int(input(\"Enter a number: \"))\n",
    "\n",
    "if is_palindrome(num):\n",
    "    print(f\"{num} is a palindrome.\")\n",
    "else: \n",
    "    print(f\"{num} is not a palindrome.\")"
   ]
  },
  {
   "cell_type": "markdown",
   "id": "12bd37d9-4e35-439d-b25f-7af4eff0641b",
   "metadata": {},
   "source": [
    "# Q9. Write a code to print odd numbers from 1 to 100 using list comprehension."
   ]
  },
  {
   "cell_type": "code",
   "execution_count": 42,
   "id": "7b21b6ad-4d89-4aae-a4bb-1f9fa2ea0ade",
   "metadata": {},
   "outputs": [
    {
     "name": "stdout",
     "output_type": "stream",
     "text": [
      "[1, 3, 5, 7, 9, 11, 13, 15, 17, 19, 21, 23, 25, 27, 29, 31, 33, 35, 37, 39, 41, 43, 45, 47, 49, 51, 53, 55, 57, 59, 61, 63, 65, 67, 69, 71, 73, 75, 77, 79, 81, 83, 85, 87, 89, 91, 93, 95, 97, 99]\n"
     ]
    }
   ],
   "source": [
    "odd_numbers = [num for num in range (1,101) if num %2!= 0]\n",
    "print(odd_numbers)"
   ]
  },
  {
   "cell_type": "code",
   "execution_count": null,
   "id": "67647f3c-14af-4926-867c-56c2d8270002",
   "metadata": {},
   "outputs": [],
   "source": []
  }
 ],
 "metadata": {
  "kernelspec": {
   "display_name": "Python 3 (ipykernel)",
   "language": "python",
   "name": "python3"
  },
  "language_info": {
   "codemirror_mode": {
    "name": "ipython",
    "version": 3
   },
   "file_extension": ".py",
   "mimetype": "text/x-python",
   "name": "python",
   "nbconvert_exporter": "python",
   "pygments_lexer": "ipython3",
   "version": "3.10.8"
  }
 },
 "nbformat": 4,
 "nbformat_minor": 5
}
