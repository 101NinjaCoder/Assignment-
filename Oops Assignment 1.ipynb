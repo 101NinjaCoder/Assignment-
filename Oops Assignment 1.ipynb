{
 "cells": [
  {
   "cell_type": "markdown",
   "id": "c5ee09fb-69a3-4d38-9729-1b17489c50ac",
   "metadata": {},
   "source": [
    "# Q1. Explain Class and Object with respect to Object-Oriented Programming. Give a suitable example."
   ]
  },
  {
   "cell_type": "code",
   "execution_count": 1,
   "id": "c6b54fa2-8f88-496b-9ded-0069a60649c7",
   "metadata": {},
   "outputs": [],
   "source": [
    "# In object-oriented Programming , a class can be considered as the blueprint to creat objects. It defines the structure and behaviour of the object.\n",
    "# Whereas Object is an instance of a class. It work on the blueprint created by the class. It has its own unique state and behaviour defined by class."
   ]
  },
  {
   "cell_type": "code",
   "execution_count": 4,
   "id": "e7019c2d-837b-48ed-bd68-50f6b0890bdb",
   "metadata": {},
   "outputs": [
    {
     "name": "stdout",
     "output_type": "stream",
     "text": [
      "Car1: Toyata Camry(2020)\n",
      "car2: Honda Civic (2022)\n",
      "Car Category: Automobile\n",
      "The car is now going at 30 km/h.\n",
      "The car is now going at 20 km/h.\n",
      "The car is now going at 25 km/h.\n",
      "The car is now going at 10 km/h.\n"
     ]
    }
   ],
   "source": [
    "class car:\n",
    "    category = 'Automobile'\n",
    "    \n",
    "    def __init__(self, make, model, year):\n",
    "        self.make = make\n",
    "        self.model= model\n",
    "        self.year= year\n",
    "        self.speed =0\n",
    "        \n",
    "    def accelerate(self, increment):\n",
    "        self.speed += increment \n",
    "        print(f\"The car is now going at {self.speed} km/h.\")\n",
    "        \n",
    "    def brake(self, decrement):\n",
    "        self.speed -= decrement\n",
    "        if self.speed <0:\n",
    "            self.speed = 0\n",
    "        print(f\"The car is now going at {self.speed} km/h.\")\n",
    "        #creating objects\n",
    "car1 = car(\"Toyata\",'Camry', 2020)\n",
    "car2 = car('Honda', \"Civic\", 2022)\n",
    "\n",
    "print(f\"Car1: {car1.make} {car1.model}({car1.year})\")\n",
    "print(f\"car2: {car2.make} {car2.model} ({car2.year})\")\n",
    "print(f\"Car Category: {car.category}\")\n",
    "car1.accelerate(30)\n",
    "car2.accelerate(20)\n",
    "car1.brake(5)\n",
    "car2.brake(10)"
   ]
  },
  {
   "cell_type": "markdown",
   "id": "1b8ad478-4cf5-473d-913f-9662b75ca842",
   "metadata": {},
   "source": [
    "# Q2. Name the four pillars of OOPs."
   ]
  },
  {
   "cell_type": "code",
   "execution_count": 5,
   "id": "6b226380-87af-46d0-95f6-27aa5b31ddb3",
   "metadata": {},
   "outputs": [],
   "source": [
    "#Four pillar of OOps are:\n",
    "#Abstraction\n",
    "#Inheritance\n",
    "#Encapsulation\n",
    "#polymorphism"
   ]
  },
  {
   "cell_type": "markdown",
   "id": "d3293078-5b26-4256-bd0d-ec3eb42d4305",
   "metadata": {},
   "source": [
    " # Q3. Explain why the __init__() function is used. Give a suitable example."
   ]
  },
  {
   "cell_type": "code",
   "execution_count": 6,
   "id": "ce3c4de4-d0a3-4aed-b9d1-1d7e8623c1a7",
   "metadata": {},
   "outputs": [],
   "source": [
    "# The \"__init__\" function is a special method in Python classes and is used as the constructor for initailizing new objects.\n",
    "# It is used to set up the initial state of the object by defining its attributes and initial values."
   ]
  },
  {
   "cell_type": "code",
   "execution_count": 7,
   "id": "88c0fc56-e858-49e4-9437-7a6b6b4fe084",
   "metadata": {},
   "outputs": [
    {
     "name": "stdout",
     "output_type": "stream",
     "text": [
      "Hi, my name Alice and I am 25 years old.\n",
      "Hi, my name bob and I am 17 years old.\n",
      "Alice is an adult: True\n",
      "bob is an adult: False\n"
     ]
    }
   ],
   "source": [
    "class Person:\n",
    "    def __init__(self, name, age):\n",
    "        self.name = name \n",
    "        self.age = age\n",
    "        self.is_adult = self.check_adult()\n",
    "        \n",
    "    def check_adult(self):\n",
    "        return self.age>= 18\n",
    "    def introduce (self):\n",
    "        print(f\"Hi, my name {self.name} and I am {self.age} years old.\")\n",
    "        \n",
    "person1 = Person(\"Alice\",25)\n",
    "person2 = Person(\"bob\",17)\n",
    "\n",
    "person1.introduce()\n",
    "person2.introduce()\n",
    "\n",
    "print(f\"{person1.name} is an adult: {person1.is_adult}\")\n",
    "print(f\"{person2.name} is an adult: {person2.is_adult}\")"
   ]
  },
  {
   "cell_type": "markdown",
   "id": "8f51bfa5-2834-42ae-bf39-719589f56214",
   "metadata": {},
   "source": [
    "# Q4. Why self is used in OOPs?"
   ]
  },
  {
   "cell_type": "code",
   "execution_count": 9,
   "id": "6d4ce12b-5b9a-48e3-b793-960caf353d33",
   "metadata": {},
   "outputs": [
    {
     "data": {
      "text/plain": [
       "'Self in OOps is a way for an object to refer to itself. When you create an object from a class, that object has its own set of data and behaviour. \"Self\" is like a personal pronoun that helps the object talk about itself and do things specific to itself.'"
      ]
     },
     "execution_count": 9,
     "metadata": {},
     "output_type": "execute_result"
    }
   ],
   "source": [
    "\"\"\"Self in OOps is a way for an object to refer to itself. When you create an object from a class, that object has its own set of data and behaviour. \"Self\" is like a personal pronoun that helps the object talk about itself and do things specific to itself.\"\"\"\n"
   ]
  },
  {
   "cell_type": "markdown",
   "id": "01d807ec-e7b6-41b7-a8e1-7ace78a6a9f7",
   "metadata": {},
   "source": [
    "# Q5. What is inheritance? Give an example for each type of inheritance."
   ]
  },
  {
   "cell_type": "code",
   "execution_count": 10,
   "id": "00c07893-f12c-4e70-a246-78fc038ad3ad",
   "metadata": {},
   "outputs": [],
   "source": [
    "#Inheritance is a fundamental concept of OOPs that can help a new class to inherit the properties and behaviour or and existing class."
   ]
  },
  {
   "cell_type": "code",
   "execution_count": 12,
   "id": "8f471a4c-ad2b-4fcf-a305-bc4014860a24",
   "metadata": {},
   "outputs": [
    {
     "name": "stdout",
     "output_type": "stream",
     "text": [
      "Animal is making a sound\n",
      "Dog barks\n"
     ]
    }
   ],
   "source": [
    "# Types of Inheritance\n",
    "# Single Inheritance\n",
    "#Multiple Inheritance\n",
    "\n",
    "\n",
    "#single\n",
    "class Animal:\n",
    "    def speak(self):\n",
    "        print(\"Animal is making a sound\")\n",
    "        \n",
    "class Dog (Animal):\n",
    "    def speak(self):\n",
    "        print(\"Dog barks\")\n",
    "animal_obj = Animal()\n",
    "dog_obj = Dog()\n",
    "\n",
    "animal_obj.speak()\n",
    "dog_obj.speak()\n"
   ]
  },
  {
   "cell_type": "code",
   "execution_count": null,
   "id": "daa82104-b21c-4509-b81c-784d8a4819a6",
   "metadata": {},
   "outputs": [],
   "source": [
    "# multiple\n",
    "\n",
    "class vehicle:\n",
    "    def move(self):\n",
    "        print(\"vehicle is moving\")\n",
    "class Engine:\n",
    "    def start(self):\n",
    "        print(\"Engine started.\")\n",
    "class car(vehicle, Engine):\n",
    "    pass\n"
   ]
  }
 ],
 "metadata": {
  "kernelspec": {
   "display_name": "Python 3 (ipykernel)",
   "language": "python",
   "name": "python3"
  },
  "language_info": {
   "codemirror_mode": {
    "name": "ipython",
    "version": 3
   },
   "file_extension": ".py",
   "mimetype": "text/x-python",
   "name": "python",
   "nbconvert_exporter": "python",
   "pygments_lexer": "ipython3",
   "version": "3.10.8"
  }
 },
 "nbformat": 4,
 "nbformat_minor": 5
}
