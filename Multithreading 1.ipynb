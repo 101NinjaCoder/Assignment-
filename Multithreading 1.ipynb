{
 "cells": [
  {
   "cell_type": "markdown",
   "id": "004d5218-5cfc-4b39-bf25-940d6d0dbb1c",
   "metadata": {},
   "source": [
    "## What is multithreading in python? Why is it used? Name the module used to handle threads in python. "
   ]
  },
  {
   "cell_type": "code",
   "execution_count": 1,
   "id": "5fd20e8c-7a5b-4abf-a9c8-e92504cee348",
   "metadata": {},
   "outputs": [],
   "source": [
    "# Multithreading in Python refers to a concurrent execution technique in which multiple threads are created within a single process to perform task."
   ]
  },
  {
   "cell_type": "code",
   "execution_count": 2,
   "id": "308c5b09-4332-4729-aef0-a76dea82ea2e",
   "metadata": {},
   "outputs": [],
   "source": [
    "#Multithreading is used in Python because of Parallelism, concurrency, and Resource Sharing"
   ]
  },
  {
   "cell_type": "code",
   "execution_count": 3,
   "id": "8fb0b166-c0c8-4abb-940b-af68d53e8bed",
   "metadata": {},
   "outputs": [],
   "source": [
    "# Module used to handle threads in python is called Threading."
   ]
  },
  {
   "cell_type": "markdown",
   "id": "a9891b4c-3bd0-4ca0-849c-42ddbd854ec0",
   "metadata": {},
   "source": [
    "## Why threading module used? Write the use of the following fucntion:\n"
   ]
  },
  {
   "cell_type": "markdown",
   "id": "4f0d04d8-8eb1-47e1-81c0-253e60c55e54",
   "metadata": {},
   "source": [
    "## 1 active count() 2 currentThread() 3 enumerate()"
   ]
  },
  {
   "cell_type": "code",
   "execution_count": 4,
   "id": "12994074-2531-4d38-8ab0-f005901761e7",
   "metadata": {},
   "outputs": [],
   "source": [
    "# The 'threading' is used to work with threads within a single process."
   ]
  },
  {
   "cell_type": "code",
   "execution_count": 5,
   "id": "17836426-b6ec-44b9-92b1-f20684364f22",
   "metadata": {},
   "outputs": [],
   "source": [
    "#1 active_count(): It is used to return all the Thread objects that are currently executing or alive."
   ]
  },
  {
   "cell_type": "code",
   "execution_count": 6,
   "id": "b86a20e9-2136-4642-8702-0f1ed8bdf6ef",
   "metadata": {},
   "outputs": [],
   "source": [
    "#2 CurrentThread(): The function returns the current thread object corresponding to the calling thread."
   ]
  },
  {
   "cell_type": "code",
   "execution_count": 7,
   "id": "3190f491-78b8-42a9-9d92-a273948c38df",
   "metadata": {},
   "outputs": [],
   "source": [
    "#3 enumerate(): This function return a list of all currently alive threads."
   ]
  },
  {
   "cell_type": "markdown",
   "id": "e37dc173-6bcc-4efa-b8bd-0de0ad6249e8",
   "metadata": {},
   "source": [
    "## Explain the following functions: 1 run() 2 start()  3 join()  4 isAlive()"
   ]
  },
  {
   "cell_type": "code",
   "execution_count": 8,
   "id": "b36273ef-6fdc-4da8-aec6-1aab4b7aa967",
   "metadata": {},
   "outputs": [],
   "source": [
    "# run(): run() is a method that you can define within a custom thread class. it represent the code that the thread will execute when it is started using the start() method."
   ]
  },
  {
   "cell_type": "code",
   "execution_count": 9,
   "id": "1a7b9324-a4bc-4347-8d6b-dff7aca4d7f3",
   "metadata": {},
   "outputs": [],
   "source": [
    "# start(): start() is a method used to initiate the execution of a thread."
   ]
  },
  {
   "cell_type": "code",
   "execution_count": 10,
   "id": "8e5bca0e-4da5-450a-a81d-e8e4b656f5dd",
   "metadata": {},
   "outputs": [],
   "source": [
    "# join(): this method used to wait for a thread to finish its execution before allowing the program to continue."
   ]
  },
  {
   "cell_type": "code",
   "execution_count": 11,
   "id": "3713294e-7cad-4efb-b125-570d2787539d",
   "metadata": {},
   "outputs": [],
   "source": [
    "# isAlive(): this method that checks whether a thread is currently alive or running."
   ]
  },
  {
   "cell_type": "markdown",
   "id": "29dcb632-5717-463a-9640-62abfa87ab15",
   "metadata": {},
   "source": [
    "## 4. Write a python program to create two threads. Thread one must print the list of squares and threadtwo must print the list of cubes"
   ]
  },
  {
   "cell_type": "code",
   "execution_count": 13,
   "id": "e05a9cf0-96aa-43f0-8311-de6056304035",
   "metadata": {},
   "outputs": [
    {
     "name": "stdout",
     "output_type": "stream",
     "text": [
      "Square of 1: 1\n",
      "Square of 2: 4\n",
      "Square of 3: 9\n",
      "Square of 4: 16\n",
      "Square of 5: 25\n",
      "Cube of 1: 1\n",
      "Cube of 2: 8\n",
      "Cube of 3: 27\n",
      "Cube of 4: 64\n",
      "Cube of 5: 125\n",
      "Both threads have finished\n"
     ]
    }
   ],
   "source": [
    "import threading\n",
    "\n",
    "def print_squares():\n",
    "    for i in range(1,6):\n",
    "        print(f\"Square of {i}: {i**2}\")\n",
    "        \n",
    "def print_cubes():\n",
    "    for i in range(1,6):\n",
    "        print(f\"Cube of {i}: {i**3}\")\n",
    "thread1 = threading.Thread(target=print_squares)\n",
    "thread2= threading.Thread(target=print_cubes)\n",
    "\n",
    "thread1.start()\n",
    "thread2.start()\n",
    "\n",
    "thread1.join()\n",
    "thread2.join()\n",
    "\n",
    "print(\"Both threads have finished\"\n",
    "     )"
   ]
  },
  {
   "cell_type": "markdown",
   "id": "ccc266f4-6fc0-46af-97ac-c0ebf95b0abc",
   "metadata": {},
   "source": [
    "## 5. State advantages and disadvantages of multithreading"
   ]
  },
  {
   "cell_type": "code",
   "execution_count": 14,
   "id": "94dee159-28c6-4780-ac5e-d7116258317a",
   "metadata": {},
   "outputs": [],
   "source": [
    "# Advantages of Multithreading:\n",
    "# 1Improved Performance 2 Resource Sharing  3 Simplified Design   and Quick Context Switching"
   ]
  },
  {
   "cell_type": "code",
   "execution_count": 15,
   "id": "71a29a4f-77c5-46ec-a708-69c1499c6b04",
   "metadata": {},
   "outputs": [],
   "source": [
    "# Disadvantages:\n",
    "#1 Complexity  #2 Synchronization Overhead #3 GIL Limatation"
   ]
  },
  {
   "cell_type": "markdown",
   "id": "7a4f381c-a1aa-4975-8bff-de7e33b15784",
   "metadata": {},
   "source": [
    "## 6. Explain deadlocks and race conditions."
   ]
  },
  {
   "cell_type": "code",
   "execution_count": 17,
   "id": "6b64f432-b321-49f6-9823-abb2c40053f2",
   "metadata": {},
   "outputs": [],
   "source": [
    "# Deadlocks and race conditions are two  concurrency-related problems  that occur in multithreading or multiprocess programs."
   ]
  },
  {
   "cell_type": "code",
   "execution_count": 18,
   "id": "0364a28e-3250-44b1-8f1b-8120135220fb",
   "metadata": {},
   "outputs": [],
   "source": [
    "# Deadlock: Deadlock is a situation where two or more threads or processes are unable to proceed because each is waiting for the other to relases a resource."
   ]
  },
  {
   "cell_type": "code",
   "execution_count": null,
   "id": "424bf643-ccf1-4d7c-a80e-5c4cb5559140",
   "metadata": {},
   "outputs": [],
   "source": [
    "# Race Condition: Race condition is a situation in which the behaviour or a program depends on the relative timing of events."
   ]
  }
 ],
 "metadata": {
  "kernelspec": {
   "display_name": "Python 3 (ipykernel)",
   "language": "python",
   "name": "python3"
  },
  "language_info": {
   "codemirror_mode": {
    "name": "ipython",
    "version": 3
   },
   "file_extension": ".py",
   "mimetype": "text/x-python",
   "name": "python",
   "nbconvert_exporter": "python",
   "pygments_lexer": "ipython3",
   "version": "3.10.8"
  }
 },
 "nbformat": 4,
 "nbformat_minor": 5
}
